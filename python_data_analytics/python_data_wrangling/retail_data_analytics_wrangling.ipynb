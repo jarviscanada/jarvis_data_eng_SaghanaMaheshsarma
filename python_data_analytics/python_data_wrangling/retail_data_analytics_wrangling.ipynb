{
 "cells": [
  {
   "cell_type": "markdown",
   "metadata": {},
   "source": [
    "# Retail Data Wrangling and Analytics"
   ]
  },
  {
   "cell_type": "code",
   "execution_count": 1,
   "metadata": {},
   "outputs": [],
   "source": [
    "# Import modules \n",
    "import pandas as pd\n",
    "%matplotlib inline\n",
    "import matplotlib.pyplot as plt\n",
    "import numpy as np"
   ]
  },
  {
   "cell_type": "markdown",
   "metadata": {},
   "source": [
    "# Load Data from PSQL into DataFrame\n",
    "\n",
    "**Setup Docker Containers**\n",
    "\n",
    "![](https://i.imgur.com/VQrBVBk.jpg)\n",
    "\n",
    "```\n",
    "#make sure you have both Jupyter and PSQL docker container running\n",
    "docker ps\n",
    "\n",
    "#Attach a bridge network to both containers so they can communicate with each other\n",
    "docker network create jarvis-net\n",
    "#this command works on running containers\n",
    "docker network connect jarvis-net jarvis-jupyter\n",
    "docker network connect jarvis-net jarvis-psql\n",
    "\n",
    "#verify both containers are attached to the jarvis-net\n",
    "docker network inspect trading-net\n",
    "\n",
    "#Note: instead of using `localhost`, you should use container names as hostnames.\n",
    "```\n",
    "\n",
    "**Data Preperation**\n",
    "\n",
    "- Use [pandas.read_sql](https://pandas.pydata.org/pandas-docs/stable/reference/api/pandas.read_sql.html) api to load the PSQL retail table into a Pandas DataFrame\n",
    "\n",
    "![](https://i.imgur.com/AmkAP63.jpg)\n",
    "\n",
    "- Get familair with the transaction date with `df.head()`, `df.sample(10)`, `df.info()`, `df.describe()`, etc..\n",
    "\n"
   ]
  },
  {
   "cell_type": "code",
   "execution_count": 5,
   "metadata": {
    "tags": []
   },
   "outputs": [
    {
     "name": "stdout",
     "output_type": "stream",
     "text": [
      "Requirement already satisfied: psycopg2-binary in /Users/saghanamaheshsarma/opt/anaconda3/lib/python3.9/site-packages (2.9.9)\n"
     ]
    }
   ],
   "source": [
    "#install psql \"driver\"\n",
    "!pip3 install psycopg2-binary"
   ]
  },
  {
   "cell_type": "code",
   "execution_count": 14,
   "metadata": {},
   "outputs": [],
   "source": [
    "import psycopg2\n",
    "conn = psycopg2.connect(\n",
    "    dbname=\"postgres\",\n",
    "    user=\"saghanamaheshsarma\",\n",
    "    password=\"password\",\n",
    "    host=\"localhost\",\n",
    "    port=\"5432\"\n",
    ")\n",
    "\n",
    "\n",
    "query = \"SELECT * FROM retail\"\n",
    "\n",
    "# Use pandas to read SQL query results into a DataFrame\n",
    "retail_df = pd.read_sql(query, conn)\n",
    "\n",
    "# Close the database connection\n",
    "conn.close()\n"
   ]
  },
  {
   "cell_type": "code",
   "execution_count": 19,
   "metadata": {},
   "outputs": [
    {
     "data": {
      "text/html": [
       "<div>\n",
       "<style scoped>\n",
       "    .dataframe tbody tr th:only-of-type {\n",
       "        vertical-align: middle;\n",
       "    }\n",
       "\n",
       "    .dataframe tbody tr th {\n",
       "        vertical-align: top;\n",
       "    }\n",
       "\n",
       "    .dataframe thead th {\n",
       "        text-align: right;\n",
       "    }\n",
       "</style>\n",
       "<table border=\"1\" class=\"dataframe\">\n",
       "  <thead>\n",
       "    <tr style=\"text-align: right;\">\n",
       "      <th></th>\n",
       "      <th>invoice_no</th>\n",
       "      <th>stock_code</th>\n",
       "      <th>description</th>\n",
       "      <th>quantity</th>\n",
       "      <th>invoice_date</th>\n",
       "      <th>unit_price</th>\n",
       "      <th>customer_id</th>\n",
       "      <th>country</th>\n",
       "    </tr>\n",
       "  </thead>\n",
       "  <tbody>\n",
       "    <tr>\n",
       "      <th>388506</th>\n",
       "      <td>526745</td>\n",
       "      <td>22544</td>\n",
       "      <td>MINI JIGSAW SPACEBOY</td>\n",
       "      <td>48</td>\n",
       "      <td>2010-10-13 08:29:00</td>\n",
       "      <td>0.42</td>\n",
       "      <td>13297.0</td>\n",
       "      <td>United Kingdom</td>\n",
       "    </tr>\n",
       "    <tr>\n",
       "      <th>142427</th>\n",
       "      <td>502887</td>\n",
       "      <td>47566B</td>\n",
       "      <td>TEA TIME PARTY BUNTING</td>\n",
       "      <td>400</td>\n",
       "      <td>2010-03-29 11:28:00</td>\n",
       "      <td>3.75</td>\n",
       "      <td>16754.0</td>\n",
       "      <td>United Kingdom</td>\n",
       "    </tr>\n",
       "    <tr>\n",
       "      <th>882084</th>\n",
       "      <td>568057</td>\n",
       "      <td>47566b</td>\n",
       "      <td>TEA TIME PARTY BUNTING</td>\n",
       "      <td>2</td>\n",
       "      <td>2011-09-23 12:56:00</td>\n",
       "      <td>8.29</td>\n",
       "      <td>NaN</td>\n",
       "      <td>United Kingdom</td>\n",
       "    </tr>\n",
       "    <tr>\n",
       "      <th>450179</th>\n",
       "      <td>532145</td>\n",
       "      <td>22643</td>\n",
       "      <td>SET OF 4 NAPKIN CHARMS LEAVES</td>\n",
       "      <td>2</td>\n",
       "      <td>2010-11-11 11:52:00</td>\n",
       "      <td>2.55</td>\n",
       "      <td>16412.0</td>\n",
       "      <td>United Kingdom</td>\n",
       "    </tr>\n",
       "    <tr>\n",
       "      <th>441399</th>\n",
       "      <td>531468</td>\n",
       "      <td>22662</td>\n",
       "      <td>LUNCH BAG DOLLY GIRL DESIGN</td>\n",
       "      <td>1</td>\n",
       "      <td>2010-11-08 13:58:00</td>\n",
       "      <td>1.65</td>\n",
       "      <td>14821.0</td>\n",
       "      <td>United Kingdom</td>\n",
       "    </tr>\n",
       "    <tr>\n",
       "      <th>152718</th>\n",
       "      <td>503921</td>\n",
       "      <td>71459</td>\n",
       "      <td>HANGING JAM JAR T-LIGHT HOLDER</td>\n",
       "      <td>12</td>\n",
       "      <td>2010-04-08 12:51:00</td>\n",
       "      <td>0.85</td>\n",
       "      <td>15613.0</td>\n",
       "      <td>United Kingdom</td>\n",
       "    </tr>\n",
       "    <tr>\n",
       "      <th>504146</th>\n",
       "      <td>536530</td>\n",
       "      <td>82552</td>\n",
       "      <td>WASHROOM METAL SIGN</td>\n",
       "      <td>1</td>\n",
       "      <td>2010-12-01 13:21:00</td>\n",
       "      <td>1.45</td>\n",
       "      <td>17905.0</td>\n",
       "      <td>United Kingdom</td>\n",
       "    </tr>\n",
       "    <tr>\n",
       "      <th>713318</th>\n",
       "      <td>553009</td>\n",
       "      <td>22931</td>\n",
       "      <td>BAKING MOULD HEART WHITE CHOCOLATE</td>\n",
       "      <td>10</td>\n",
       "      <td>2011-05-12 16:52:00</td>\n",
       "      <td>2.55</td>\n",
       "      <td>13601.0</td>\n",
       "      <td>United Kingdom</td>\n",
       "    </tr>\n",
       "    <tr>\n",
       "      <th>152099</th>\n",
       "      <td>503859</td>\n",
       "      <td>20723</td>\n",
       "      <td>STRAWBERRY CHARLOTTE BAG</td>\n",
       "      <td>20</td>\n",
       "      <td>2010-04-08 10:30:00</td>\n",
       "      <td>0.85</td>\n",
       "      <td>14855.0</td>\n",
       "      <td>United Kingdom</td>\n",
       "    </tr>\n",
       "    <tr>\n",
       "      <th>718918</th>\n",
       "      <td>C553531</td>\n",
       "      <td>S</td>\n",
       "      <td>SAMPLES</td>\n",
       "      <td>-1</td>\n",
       "      <td>2011-05-17 15:09:00</td>\n",
       "      <td>15.50</td>\n",
       "      <td>NaN</td>\n",
       "      <td>United Kingdom</td>\n",
       "    </tr>\n",
       "  </tbody>\n",
       "</table>\n",
       "</div>"
      ],
      "text/plain": [
       "       invoice_no stock_code                         description  quantity  \\\n",
       "388506     526745      22544                MINI JIGSAW SPACEBOY        48   \n",
       "142427     502887     47566B              TEA TIME PARTY BUNTING       400   \n",
       "882084     568057     47566b              TEA TIME PARTY BUNTING         2   \n",
       "450179     532145      22643    SET OF 4 NAPKIN CHARMS LEAVES            2   \n",
       "441399     531468      22662         LUNCH BAG DOLLY GIRL DESIGN         1   \n",
       "152718     503921      71459      HANGING JAM JAR T-LIGHT HOLDER        12   \n",
       "504146     536530      82552                 WASHROOM METAL SIGN         1   \n",
       "713318     553009      22931  BAKING MOULD HEART WHITE CHOCOLATE        10   \n",
       "152099     503859      20723            STRAWBERRY CHARLOTTE BAG        20   \n",
       "718918    C553531          S                             SAMPLES        -1   \n",
       "\n",
       "              invoice_date  unit_price  customer_id         country  \n",
       "388506 2010-10-13 08:29:00        0.42      13297.0  United Kingdom  \n",
       "142427 2010-03-29 11:28:00        3.75      16754.0  United Kingdom  \n",
       "882084 2011-09-23 12:56:00        8.29          NaN  United Kingdom  \n",
       "450179 2010-11-11 11:52:00        2.55      16412.0  United Kingdom  \n",
       "441399 2010-11-08 13:58:00        1.65      14821.0  United Kingdom  \n",
       "152718 2010-04-08 12:51:00        0.85      15613.0  United Kingdom  \n",
       "504146 2010-12-01 13:21:00        1.45      17905.0  United Kingdom  \n",
       "713318 2011-05-12 16:52:00        2.55      13601.0  United Kingdom  \n",
       "152099 2010-04-08 10:30:00        0.85      14855.0  United Kingdom  \n",
       "718918 2011-05-17 15:09:00       15.50          NaN  United Kingdom  "
      ]
     },
     "execution_count": 19,
     "metadata": {},
     "output_type": "execute_result"
    }
   ],
   "source": [
    "\n",
    "#head - prints first few rows of the data frame\n",
    "retail_df.head()\n",
    "\n",
    "#sample - randomly selects and displays 10 rows from the dataframe\n",
    "retail_df.sample(10)\n"
   ]
  },
  {
   "cell_type": "code",
   "execution_count": 20,
   "metadata": {},
   "outputs": [
    {
     "name": "stdout",
     "output_type": "stream",
     "text": [
      "<class 'pandas.core.frame.DataFrame'>\n",
      "RangeIndex: 1067371 entries, 0 to 1067370\n",
      "Data columns (total 8 columns):\n",
      " #   Column        Non-Null Count    Dtype         \n",
      "---  ------        --------------    -----         \n",
      " 0   invoice_no    1067371 non-null  object        \n",
      " 1   stock_code    1067371 non-null  object        \n",
      " 2   description   1062989 non-null  object        \n",
      " 3   quantity      1067371 non-null  int64         \n",
      " 4   invoice_date  1067371 non-null  datetime64[ns]\n",
      " 5   unit_price    1067371 non-null  float64       \n",
      " 6   customer_id   824364 non-null   float64       \n",
      " 7   country       1067371 non-null  object        \n",
      "dtypes: datetime64[ns](1), float64(2), int64(1), object(4)\n",
      "memory usage: 65.1+ MB\n"
     ]
    },
    {
     "data": {
      "text/html": [
       "<div>\n",
       "<style scoped>\n",
       "    .dataframe tbody tr th:only-of-type {\n",
       "        vertical-align: middle;\n",
       "    }\n",
       "\n",
       "    .dataframe tbody tr th {\n",
       "        vertical-align: top;\n",
       "    }\n",
       "\n",
       "    .dataframe thead th {\n",
       "        text-align: right;\n",
       "    }\n",
       "</style>\n",
       "<table border=\"1\" class=\"dataframe\">\n",
       "  <thead>\n",
       "    <tr style=\"text-align: right;\">\n",
       "      <th></th>\n",
       "      <th>quantity</th>\n",
       "      <th>unit_price</th>\n",
       "      <th>customer_id</th>\n",
       "    </tr>\n",
       "  </thead>\n",
       "  <tbody>\n",
       "    <tr>\n",
       "      <th>count</th>\n",
       "      <td>1.067371e+06</td>\n",
       "      <td>1.067371e+06</td>\n",
       "      <td>824364.000000</td>\n",
       "    </tr>\n",
       "    <tr>\n",
       "      <th>mean</th>\n",
       "      <td>9.938898e+00</td>\n",
       "      <td>4.649388e+00</td>\n",
       "      <td>15324.638504</td>\n",
       "    </tr>\n",
       "    <tr>\n",
       "      <th>std</th>\n",
       "      <td>1.727058e+02</td>\n",
       "      <td>1.235531e+02</td>\n",
       "      <td>1697.464450</td>\n",
       "    </tr>\n",
       "    <tr>\n",
       "      <th>min</th>\n",
       "      <td>-8.099500e+04</td>\n",
       "      <td>-5.359436e+04</td>\n",
       "      <td>12346.000000</td>\n",
       "    </tr>\n",
       "    <tr>\n",
       "      <th>25%</th>\n",
       "      <td>1.000000e+00</td>\n",
       "      <td>1.250000e+00</td>\n",
       "      <td>13975.000000</td>\n",
       "    </tr>\n",
       "    <tr>\n",
       "      <th>50%</th>\n",
       "      <td>3.000000e+00</td>\n",
       "      <td>2.100000e+00</td>\n",
       "      <td>15255.000000</td>\n",
       "    </tr>\n",
       "    <tr>\n",
       "      <th>75%</th>\n",
       "      <td>1.000000e+01</td>\n",
       "      <td>4.150000e+00</td>\n",
       "      <td>16797.000000</td>\n",
       "    </tr>\n",
       "    <tr>\n",
       "      <th>max</th>\n",
       "      <td>8.099500e+04</td>\n",
       "      <td>3.897000e+04</td>\n",
       "      <td>18287.000000</td>\n",
       "    </tr>\n",
       "  </tbody>\n",
       "</table>\n",
       "</div>"
      ],
      "text/plain": [
       "           quantity    unit_price    customer_id\n",
       "count  1.067371e+06  1.067371e+06  824364.000000\n",
       "mean   9.938898e+00  4.649388e+00   15324.638504\n",
       "std    1.727058e+02  1.235531e+02    1697.464450\n",
       "min   -8.099500e+04 -5.359436e+04   12346.000000\n",
       "25%    1.000000e+00  1.250000e+00   13975.000000\n",
       "50%    3.000000e+00  2.100000e+00   15255.000000\n",
       "75%    1.000000e+01  4.150000e+00   16797.000000\n",
       "max    8.099500e+04  3.897000e+04   18287.000000"
      ]
     },
     "execution_count": 20,
     "metadata": {},
     "output_type": "execute_result"
    }
   ],
   "source": [
    "#info gives concise summary of the data frame \n",
    "retail_df.info()\n",
    "\n",
    "#describe gives statstics for the numerical columns in the data\n",
    "retail_df.describe()"
   ]
  },
  {
   "cell_type": "markdown",
   "metadata": {},
   "source": [
    "# Load CSV into Dataframe\n",
    "Alternatively, the LGS IT team also dumped the transactional data into a [CSV file](https://raw.githubusercontent.com/jarviscanada/jarvis_data_eng_demo/feature/data/python_data_wrangling/data/online_retail_II.csv). However, the CSV header (column names) doesn't follow the snakecase or camelcase naming convention (e.g. `Customer ID` instead of `customer_id` or `CustomerID`). As a result, you will need to use Pandas to clean up the data before doing any analytics. In addition, unlike the PSQL scheme, CSV files do not have data types associated. Therefore, you will need to cast/convert certain columns into correct data types (e.g. DateTime, numbers, etc..)\n",
    "\n",
    "**Data Preperation**\n",
    "\n",
    "- Read the `data/online_retail_II.csv` file into a DataFrame\n",
    "- Rename all columns to upper camelcase or snakecase\n",
    "- Convert/cast all columns to the appropriate data types (e.g. datetime)"
   ]
  },
  {
   "cell_type": "code",
   "execution_count": 40,
   "metadata": {},
   "outputs": [
    {
     "name": "stdout",
     "output_type": "stream",
     "text": [
      "<class 'pandas.core.frame.DataFrame'>\n",
      "RangeIndex: 1067371 entries, 0 to 1067370\n",
      "Data columns (total 8 columns):\n",
      " #   Column       Non-Null Count    Dtype         \n",
      "---  ------       --------------    -----         \n",
      " 0   InvoiceNo    1067371 non-null  object        \n",
      " 1   StockCode    1067371 non-null  object        \n",
      " 2   Description  1067371 non-null  object        \n",
      " 3   Quantity     1067371 non-null  int64         \n",
      " 4   InvoiceDate  1067371 non-null  datetime64[ns]\n",
      " 5   UnitPrice    1067371 non-null  float64       \n",
      " 6   CustomerId   824364 non-null   float64       \n",
      " 7   Country      1067371 non-null  object        \n",
      "dtypes: datetime64[ns](1), float64(2), int64(1), object(4)\n",
      "memory usage: 65.1+ MB\n",
      "None\n",
      "  InvoiceNo StockCode                          Description  Quantity  \\\n",
      "0    489434     85048  15CM CHRISTMAS GLASS BALL 20 LIGHTS        12   \n",
      "1    489434    79323P                   PINK CHERRY LIGHTS        12   \n",
      "2    489434    79323W                  WHITE CHERRY LIGHTS        12   \n",
      "3    489434     22041         RECORD FRAME 7\" SINGLE SIZE         48   \n",
      "4    489434     21232       STRAWBERRY CERAMIC TRINKET BOX        24   \n",
      "\n",
      "          InvoiceDate  UnitPrice  CustomerId         Country  \n",
      "0 2009-12-01 07:45:00       6.95     13085.0  United Kingdom  \n",
      "1 2009-12-01 07:45:00       6.75     13085.0  United Kingdom  \n",
      "2 2009-12-01 07:45:00       6.75     13085.0  United Kingdom  \n",
      "3 2009-12-01 07:45:00       2.10     13085.0  United Kingdom  \n",
      "4 2009-12-01 07:45:00       1.25     13085.0  United Kingdom  \n"
     ]
    }
   ],
   "source": [
    "#read_csv into data frame\n",
    "retail_df = pd.read_csv(\"online_retail_II.csv\")\n",
    "\n",
    "#rename columns to upper camel case\n",
    "\n",
    "def upper_camelcase(s):\n",
    "    if s.islower() or s.isupper():\n",
    "        return s\n",
    "    else:\n",
    "        return ''.join(word.capitalize() for word in s.split())\n",
    "\n",
    "retail_df.columns = [upper_camelcase(col) for col in retail_df.columns]\n",
    "\n",
    "retail_df.head()\n",
    "\n",
    "# Convert/cast columns to appropriate data types\n",
    "retail_df['InvoiceNo'] = retail_df['InvoiceNo'].astype(str)\n",
    "retail_df['StockCode'] = retail_df['StockCode'].astype(str)\n",
    "retail_df['Description'] = retail_df['Description'].astype(str)\n",
    "retail_df['Quantity'] = retail_df['Quantity'].astype(int)\n",
    "retail_df['InvoiceDate'] = pd.to_datetime(retail_df['InvoiceDate'])\n",
    "retail_df['UnitPrice'] = retail_df['UnitPrice'].astype(float)\n",
    "retail_df['CustomerId'] = retail_df['CustomerId'].astype(float)\n",
    "retail_df['Country'] = retail_df['Country'].astype(str)\n",
    "\n",
    "# Print the DataFrame information\n",
    "print(retail_df.info())\n",
    "\n",
    "# Display the DataFrame\n",
    "print(retail_df.head())\n"
   ]
  },
  {
   "cell_type": "markdown",
   "metadata": {},
   "source": [
    "# Total Invoice Amount Distribution"
   ]
  },
  {
   "cell_type": "markdown",
   "metadata": {},
   "source": [
    "---\n",
    "**Please remove this insturction cell after you are done with coding**\n",
    "\n",
    "1. Calculate the invoice amount. Note: an invoice consists of one or more items where each item is a row in the df. (hint: you need to `GROUP BY invoice`)\n",
    "2. Draw the distribution of invoice amount with min, max, median, mod, and mean. However, you will notice many outlier data (e.g. invoices with large amounts). Sample hist and box charts:\n",
    "\n",
    "![](https://i.imgur.com/N8hsbDa.jpg)\n",
    "\n",
    "3. Draw the distribution for the first 85 quantiles of the invoice amount data with min, max, median, mod, and mean.\n",
    "\n",
    "\n",
    "![](https://i.imgur.com/tJrH1qj.jpg)\n",
    "\n",
    "\n",
    "---"
   ]
  },
  {
   "cell_type": "code",
   "execution_count": 55,
   "metadata": {},
   "outputs": [
    {
     "name": "stderr",
     "output_type": "stream",
     "text": [
      "/var/folders/63/y3b2n2yx4yg9nh40z4ngsdw40000gn/T/ipykernel_81209/3945360787.py:8: SettingWithCopyWarning: \n",
      "A value is trying to be set on a copy of a slice from a DataFrame.\n",
      "Try using .loc[row_indexer,col_indexer] = value instead\n",
      "\n",
      "See the caveats in the documentation: https://pandas.pydata.org/pandas-docs/stable/user_guide/indexing.html#returning-a-view-versus-a-copy\n",
      "  filtered_df['InvoiceAmount'] = filtered_df['Quantity'] * filtered_df['UnitPrice']\n"
     ]
    },
    {
     "data": {
      "text/plain": [
       "InvoiceNo\n",
       "489434       505.30\n",
       "489435       145.80\n",
       "489436       630.33\n",
       "489437       310.75\n",
       "489438      2286.24\n",
       "             ...   \n",
       "581585       329.05\n",
       "581586       339.20\n",
       "581587       267.45\n",
       "A563185    11062.06\n",
       "C496350      373.57\n",
       "Name: InvoiceAmount, Length: 40078, dtype: float64"
      ]
     },
     "execution_count": 55,
     "metadata": {},
     "output_type": "execute_result"
    }
   ],
   "source": [
    "# Write your code in one or more cells (please remove this line from your notebook)\n",
    "import pandas as pd\n",
    "import numpy as np\n",
    "import matplotlib.pyplot as plt\n",
    "\n",
    "filtered_df = retail_df[retail_df['Quantity'] * retail_df['UnitPrice'] > 0]\n",
    "\n",
    "filtered_df['InvoiceAmount'] = filtered_df['Quantity'] * filtered_df['UnitPrice']\n",
    "\n",
    "total_invoice_amount = filtered_df.groupby('InvoiceNo')['InvoiceAmount'].sum()\n",
    "total_invoice_amount\n"
   ]
  },
  {
   "cell_type": "code",
   "execution_count": 56,
   "metadata": {},
   "outputs": [
    {
     "data": {
      "text/plain": [
       "count     40078.000000\n",
       "mean        523.303761\n",
       "std        1517.351646\n",
       "min           0.190000\n",
       "25%         151.972500\n",
       "50%         304.315000\n",
       "75%         504.892500\n",
       "max      168469.600000\n",
       "Name: InvoiceAmount, dtype: float64"
      ]
     },
     "execution_count": 56,
     "metadata": {},
     "output_type": "execute_result"
    }
   ],
   "source": [
    "invoice_amount_stats = total_invoice_amount.describe() \n",
    "\n",
    "invoice_amount_stats"
   ]
  },
  {
   "cell_type": "code",
   "execution_count": 58,
   "metadata": {},
   "outputs": [
    {
     "data": {
      "image/png": "[encoded data removed]",
      "text/plain": [
       "<Figure size 720x432 with 1 Axes>"
      ]
     },
     "metadata": {
      "needs_background": "light"
     },
     "output_type": "display_data"
    }
   ],
   "source": [
    "plt.figure(figsize=(10,6))\n",
    "plt.hist(total_invoice_amount,color = 'skyblue',edgecolor = 'black')\n",
    "plt.title('Invoice Amount Distribution')\n",
    "plt.xlabel('Invoice Amount')\n",
    "plt.ylabel('Frequency')\n",
    "plt.show()"
   ]
  },
  {
   "cell_type": "code",
   "execution_count": 62,
   "metadata": {},
   "outputs": [
    {
     "data": {
      "image/png": "[encoded data removed]",
      "text/plain": [
       "<Figure size 576x432 with 1 Axes>"
      ]
     },
     "metadata": {
      "needs_background": "light"
     },
     "output_type": "display_data"
    }
   ],
   "source": [
    "plt.figure(figsize=(8, 6))\n",
    "plt.boxplot(total_invoice_amount, vert=False)\n",
    "plt.title('Box Plot of Invoice Amount')\n",
    "plt.xlabel('Invoice Amount')\n",
    "plt.grid(True)\n",
    "plt.show()"
   ]
  },
  {
   "cell_type": "code",
   "execution_count": 68,
   "metadata": {},
   "outputs": [
    {
     "data": {
      "text/plain": [
       "count     85.000000\n",
       "mean     275.932686\n",
       "std      178.249476\n",
       "min        4.200000\n",
       "25%      136.494000\n",
       "50%      260.400000\n",
       "75%      381.092800\n",
       "max      724.389500\n",
       "Name: InvoiceAmount, dtype: float64"
      ]
     },
     "execution_count": 68,
     "metadata": {},
     "output_type": "execute_result"
    }
   ],
   "source": [
    "# 3. Distribution for the first 85 quantiles of the invoice amount data\n",
    "quantiles = total_invoice_amount.quantile([i/100 for i in range(1, 86)])\n",
    "\n",
    "quantiles.describe()\n"
   ]
  },
  {
   "cell_type": "code",
   "execution_count": 77,
   "metadata": {},
   "outputs": [
    {
     "data": {
      "image/png": "[encoded data removed]",
      "text/plain": [
       "<Figure size 720x432 with 1 Axes>"
      ]
     },
     "metadata": {
      "needs_background": "light"
     },
     "output_type": "display_data"
    },
    {
     "data": {
      "image/png": "[encoded data removed]",
      "text/plain": [
       "<Figure size 576x432 with 1 Axes>"
      ]
     },
     "metadata": {
      "needs_background": "light"
     },
     "output_type": "display_data"
    }
   ],
   "source": [
    "# Plot histogram\n",
    "plt.figure(figsize=(10, 6))\n",
    "plt.hist(quantiles, bins=20, color='skyblue', edgecolor='white')\n",
    "plt.title('Distribution of First 85 Quantiles of Invoice Amount')\n",
    "plt.xlabel('Invoice Amount')\n",
    "plt.ylabel('Frequency')\n",
    "plt.axvline(quantiles.min(), color='r', linestyle='--', label='Min')  # Plot min as a dotted line\n",
    "plt.axvline(quantiles.max(), color='g', linestyle='--', label='Max')  # Plot max as a dotted line\n",
    "plt.axvline(quantiles.median(), color='b', linestyle='--', label='Median')  # Plot median as a dotted line\n",
    "plt.axvline(quantiles.mode()[0], color='y', linestyle='--', label='Mode')  # Plot mode as a dotted line\n",
    "plt.axvline(quantiles.mean(), color='m', linestyle='--', label='Mean')  # Plot mean as a dotted line\n",
    "plt.legend()  # Show legend\n",
    "plt.show()\n",
    "\n",
    "# Plot box plot\n",
    "plt.figure(figsize=(8, 6))\n",
    "plt.boxplot(quantiles,vert=False)\n",
    "plt.title('Box Plot of First 85 Quantiles of Invoice Amount')\n",
    "plt.ylabel('Invoice Amount')\n",
    "plt.grid(True)\n",
    "plt.show()"
   ]
  },
  {
   "cell_type": "markdown",
   "metadata": {},
   "source": [
    "# Monthly Placed and Canceled Orders"
   ]
  },
  {
   "cell_type": "code",
   "execution_count": 83,
   "metadata": {},
   "outputs": [
    {
     "data": {
      "image/png": "[encoded data removed]",
      "text/plain": [
       "<Figure size 1080x720 with 1 Axes>"
      ]
     },
     "metadata": {
      "needs_background": "light"
     },
     "output_type": "display_data"
    }
   ],
   "source": [
    "# Step 1: Create a new column with YYYYMM format\n",
    "retail_df['InvoiceYearMonth'] = retail_df['InvoiceDate'].dt.year * 100 + retail_df['InvoiceDate'].dt.month\n",
    "\n",
    "\n",
    "# Step 2: Count the number of placed and canceled orders for each month\n",
    "# Separate placed and canceled orders\n",
    "placed_orders = retail_df[~retail_df['InvoiceNo'].str.startswith('C')]\n",
    "canceled_orders = retail_df[retail_df['InvoiceNo'].str.startswith('C')]\n",
    "\n",
    "# Group placed orders by month and count\n",
    "monthly_placed_orders = placed_orders.groupby('InvoiceYearMonth').size().reset_index(name='Placement')\n",
    "\n",
    "# Group canceled orders by month and count (considering each canceled order has an original invoice)\n",
    "monthly_canceled_orders = canceled_orders.groupby('InvoiceYearMonth').size().reset_index(name='Cancellation')\n",
    "monthly_canceled_orders['Cancellation'] *= 2  # Each canceled order contributes to two invoices\n",
    "\n",
    "# Merge placed and canceled orders\n",
    "monthly_orders = pd.merge(monthly_placed_orders, monthly_canceled_orders, on='InvoiceYearMonth', how='outer').fillna(0)\n",
    "\n",
    "# Plotting\n",
    "monthly_orders.plot(x=\"InvoiceYearMonth\", y=['Placement', 'Cancellation'], kind='bar', figsize=(15, 10))\n",
    "plt.title(\"Monthly Placed and Canceled Orders\")\n",
    "plt.xlabel(\"Year-Month\")\n",
    "plt.ylabel(\"Number of Orders\")\n",
    "plt.xticks(rotation=45)\n",
    "plt.show()"
   ]
  },
  {
   "cell_type": "markdown",
   "metadata": {},
   "source": [
    "---\n",
    "**Please remove this insturction cell after you are done with coding**\n",
    "\n",
    "- The attribute information (see the `project kick-off` section) contains useful information that helps you to identify canceled orders\n",
    "- To simplify the problem, you can assume that there are two invoice numbers for each canceled order (one for the original invoice and one for the canceled invoice). Therefore, `# of placed orders = total # of orders - 2 * canceled order`. Furthermore, you can also assume the original invoice and canceled invoice are on always on the same day (this eliminate the case where the original invoice and canceled invoices are on different months)\n",
    "- hints: you might want to create a new integer column with YYYYMM format. e.g. `2009-12-01 07:45:00 -> 200912` which allows easy GROUP BY.\n",
    "\n",
    "**Sample Plot:**\n",
    "\n",
    "![](https://i.imgur.com/tmLsPDf.jpg)\n",
    "\n",
    "---"
   ]
  },
  {
   "cell_type": "code",
   "execution_count": null,
   "metadata": {},
   "outputs": [],
   "source": []
  },
  {
   "cell_type": "code",
   "execution_count": null,
   "metadata": {},
   "outputs": [],
   "source": []
  },
  {
   "cell_type": "markdown",
   "metadata": {},
   "source": [
    "# Monthly Sales"
   ]
  },
  {
   "cell_type": "markdown",
   "metadata": {},
   "source": [
    "---\n",
    "**Please remove this insturction cell after you are done with coding**\n",
    "\n",
    "\n",
    "- Calculate the monthly sales data\n",
    "- Plot a chart to show monthly sales (e.g. x-asix=year_month, y-axis=sales_amount)\n",
    "\n",
    "![](https://i.imgur.com/k1KOqKO.jpg)\n",
    "\n",
    "---"
   ]
  },
  {
   "cell_type": "code",
   "execution_count": 112,
   "metadata": {},
   "outputs": [
    {
     "data": {
      "text/plain": [
       "(array([200980., 201000., 201020., 201040., 201060., 201080., 201100.,\n",
       "        201120.]),\n",
       " [Text(0, 0, ''),\n",
       "  Text(0, 0, ''),\n",
       "  Text(0, 0, ''),\n",
       "  Text(0, 0, ''),\n",
       "  Text(0, 0, ''),\n",
       "  Text(0, 0, ''),\n",
       "  Text(0, 0, ''),\n",
       "  Text(0, 0, '')])"
      ]
     },
     "execution_count": 112,
     "metadata": {},
     "output_type": "execute_result"
    },
    {
     "data": {
      "image/png": "[encoded data removed]",
      "text/plain": [
       "<Figure size 1080x360 with 1 Axes>"
      ]
     },
     "metadata": {
      "needs_background": "light"
     },
     "output_type": "display_data"
    }
   ],
   "source": [
    "# Calculate monthly sales\n",
    "monthly_sales = retail_df.groupby('InvoiceYearMonth')['TotalAmount'].sum().reset_index()\n",
    "\n",
    "# Calculate Monthly Sales Growth Percentage\n",
    "monthly_sales['SalesGrowthPercentage'] = monthly_sales['TotalAmount'].pct_change() * 100\n",
    "\n",
    "# Plotting\n",
    "plt.figure(figsize=(15, 5))\n",
    "\n",
    "\n",
    "# Monthly Sales Growth Percentage\n",
    "plt.subplot(1, 2, 2)\n",
    "plt.plot(monthly_sales['InvoiceYearMonth'], monthly_sales['SalesGrowthPercentage'], marker='o', linestyle='-')\n",
    "plt.title('Monthly Sales Growth Percentage')\n",
    "plt.xlabel('Year-Month')\n",
    "plt.ylabel('Sales Growth Percentage')\n",
    "plt.xticks(rotation=45,monthly_sales['YearMonth'])\n"
   ]
  },
  {
   "cell_type": "code",
   "execution_count": null,
   "metadata": {},
   "outputs": [],
   "source": []
  },
  {
   "cell_type": "markdown",
   "metadata": {},
   "source": [
    "# Monthly Sales Growth\n"
   ]
  },
  {
   "cell_type": "markdown",
   "metadata": {},
   "source": [
    "---\n",
    "**Please remove this insturction cell after you are done with coding**\n",
    "\n",
    "- Calculate monthly sales percentage growth data\n",
    "- Plot a chart to show the growth percentage\n",
    "\n",
    "![](https://i.imgur.com/J3btp8j.jpg)\n",
    "\n",
    "---"
   ]
  },
  {
   "cell_type": "code",
   "execution_count": 124,
   "metadata": {},
   "outputs": [
    {
     "data": {
      "image/png": "[encoded data removed]",
      "text/plain": [
       "<Figure size 1296x576 with 1 Axes>"
      ]
     },
     "metadata": {
      "needs_background": "light"
     },
     "output_type": "display_data"
    }
   ],
   "source": [
    "retail_df.head()\n",
    "# Calculate Monthly Sales\n",
    "monthly_sales = retail_df.groupby('InvoiceYearMonth')['TotalAmount'].sum().reset_index()\n",
    "\n",
    "# Calculate Monthly Sales Growth Percentage\n",
    "monthly_sales['SalesGrowthPercentage'] = monthly_sales['TotalAmount'].pct_change() * 100\n",
    "\n",
    "# Plotting\n",
    "plt.figure(figsize=(18, 8))\n",
    "\n",
    "\n",
    "# Monthly Sales Growth Percentage\n",
    "plt.subplot(1, 2, 2)\n",
    "plt.plot(monthly_sales['InvoiceYearMonth'], monthly_sales['SalesGrowthPercentage'], marker='o', linestyle='-')\n",
    "plt.title('Monthly Sales Growth Percentage')\n",
    "plt.xlabel('Year-Month')\n",
    "plt.ylabel('Sales Growth Percentage')\n",
    "plt.xticks(rotation=90)\n",
    "plt.grid(True)\n",
    "\n",
    "plt.tight_layout()\n",
    "plt.show()"
   ]
  },
  {
   "cell_type": "code",
   "execution_count": null,
   "metadata": {},
   "outputs": [],
   "source": []
  },
  {
   "cell_type": "markdown",
   "metadata": {},
   "source": [
    "# Monthly Active Users"
   ]
  },
  {
   "cell_type": "markdown",
   "metadata": {},
   "source": [
    "---\n",
    "**Please remove this insturction cell after you are done with coding**\n",
    "\n",
    "- Compute # of active users (e.g. unique `CusotomerID`) for each month\n",
    "- Plot a bar chart\n",
    "\n",
    "![](https://i.imgur.com/eFYp8VF.jpg)\n",
    "\n",
    "---"
   ]
  },
  {
   "cell_type": "code",
   "execution_count": 127,
   "metadata": {},
   "outputs": [
    {
     "data": {
      "image/png": "[encoded data removed]",
      "text/plain": [
       "<Figure size 864x432 with 1 Axes>"
      ]
     },
     "metadata": {
      "needs_background": "light"
     },
     "output_type": "display_data"
    }
   ],
   "source": [
    "active_users = retail_df.groupby('InvoiceYearMonth')['CustomerId'].nunique().reset_index()\n",
    "\n",
    "plt.figure(figsize = (12,6))\n",
    "plt.bar(active_users['InvoiceYearMonth'],active_users['CustomerId'],color = 'skyblue')\n",
    "plt.title('Monthly Active Users')\n",
    "plt.xlabel('Year Month')\n",
    "plt.ylabel('# of Active Users')\n",
    "plt.xticks(rotation = 90)\n",
    "plt.grid(axis = 'y')\n",
    "plt.show()"
   ]
  },
  {
   "cell_type": "code",
   "execution_count": null,
   "metadata": {},
   "outputs": [],
   "source": []
  },
  {
   "cell_type": "markdown",
   "metadata": {},
   "source": [
    "# New and Existing Users\n",
    "\n"
   ]
  },
  {
   "cell_type": "markdown",
   "metadata": {},
   "source": [
    "---\n",
    "**Please remove this insturction cell after you are done with coding**\n",
    "\n",
    "- Plot a diagram to show new and exiting user for each month.\n",
    "- A user is identified as a new user when he/she makes the first purchase\n",
    "- A user is identified as an existing user when he/she made purchases in the past\n",
    "- hints:\n",
    "  - find out the first purchase year-month for each user and then join this data with the transactional data to help you identified new/exiting users\n",
    "\n",
    "![](https://i.imgur.com/nWjnrpr.jpg)\n",
    "\n",
    "---"
   ]
  },
  {
   "cell_type": "code",
   "execution_count": 139,
   "metadata": {},
   "outputs": [
    {
     "data": {
      "image/png": "[encoded data removed]",
      "text/plain": [
       "<Figure size 864x432 with 1 Axes>"
      ]
     },
     "metadata": {
      "needs_background": "light"
     },
     "output_type": "display_data"
    }
   ],
   "source": [
    "# Find out the first purchase year-month for each user\n",
    "first_purchase = retail_df.groupby('CustomerId')['InvoiceYearMonth'].min().reset_index()\n",
    "first_purchase.columns = ['CustomerId', 'FirstPurchaseYearMonth']\n",
    "\n",
    "# Join the first purchase data with the transactional data\n",
    "retail_df = pd.merge(retail_df, first_purchase, on='CustomerId', how='left')\n",
    "\n",
    "# Identify new and existing users\n",
    "retail_df['UserType'] = 'Existing'\n",
    "retail_df.loc[retail_df['InvoiceYearMonth'] == retail_df['FirstPurchaseYearMonth'], 'UserType'] = 'New'\n",
    "\n",
    "# Group by InvoiceYearMonth and UserType to count new and existing users\n",
    "user_counts = retail_df.groupby(['InvoiceYearMonth', 'UserType']).size().unstack(fill_value=0)\n",
    "\n",
    "# Plotting\n",
    "user_counts.plot(kind='bar', stacked= False,figsize=(12, 6),color=['orange','lightblue'])\n",
    "plt.title('New and Existing Users per Month')\n",
    "plt.xlabel('Year-Month')\n",
    "plt.ylabel('Number of Users')\n",
    "plt.xticks(rotation=90)\n",
    "plt.legend(title='User Type')\n",
    "plt.grid(axis='y')\n",
    "plt.show()"
   ]
  },
  {
   "cell_type": "code",
   "execution_count": null,
   "metadata": {},
   "outputs": [],
   "source": []
  },
  {
   "cell_type": "markdown",
   "metadata": {},
   "source": [
    "## Finding RFM\n",
    "\n",
    "RFM is a method used for analyzing customer value. It is commonly used in database marketing and direct marketing and has received particular attention in the retail and professional services industries. ([wikipedia](https://en.wikipedia.org/wiki/RFM_(market_research)))\n",
    "\n",
    "Optional Reading: [Making Your Database Pay Off Using Recency Frequency and Monetary Analysis](http://www.dbmarketing.com/2010/03/making-your-database-pay-off-using-recency-frequency-and-monetary-analysis/)\n",
    "\n",
    "\n",
    "RFM stands for three dimensions:\n",
    "\n",
    "- Recency – How recently did the customer purchase?\n",
    "\n",
    "- Frequency – How often do they purchase?\n",
    "\n",
    "- Monetary Value – How much do they spend?\n",
    "\n",
    "Note: To simplify the problem, let's keep all placed and canceled orders.\n",
    "\n",
    "\n",
    "**Sample RFM table**\n",
    "\n",
    "![](https://i.imgur.com/sXFIg6u.jpg)"
   ]
  },
  {
   "cell_type": "code",
   "execution_count": 140,
   "metadata": {},
   "outputs": [
    {
     "name": "stdout",
     "output_type": "stream",
     "text": [
      "      CustomerId  Recency  Frequency  Monetary\n",
      "0        12346.0     4836         48    -64.68\n",
      "1        12347.0     4513        253   5633.32\n",
      "2        12348.0     4586         51   2019.40\n",
      "3        12349.0     4529        180   4404.54\n",
      "4        12350.0     4821         17    334.40\n",
      "...          ...      ...        ...       ...\n",
      "5937     18283.0     4514        986   2736.65\n",
      "5938     18284.0     4940         29    436.68\n",
      "5939     18285.0     5171         12    427.00\n",
      "5940     18286.0     4987         70   1188.43\n",
      "5941     18287.0     4553        156   4177.89\n",
      "\n",
      "[5942 rows x 4 columns]\n"
     ]
    }
   ],
   "source": [
    "rfm = retail_df.groupby('CustomerId').agg({\n",
    "    'InvoiceDate': lambda x: (pd.to_datetime('now') - x.max()).days,  # Recency: days since last purchase\n",
    "    'InvoiceNo': 'count',  # Frequency: number of purchases\n",
    "    'TotalAmount': 'sum'  # Monetary Value: total spending\n",
    "}).reset_index()\n",
    "\n",
    "# Rename the columns\n",
    "rfm.columns = ['CustomerId', 'Recency', 'Frequency', 'Monetary']\n",
    "\n",
    "# Display the RFM DataFrame\n",
    "print(rfm)"
   ]
  },
  {
   "cell_type": "code",
   "execution_count": null,
   "metadata": {},
   "outputs": [],
   "source": []
  },
  {
   "cell_type": "markdown",
   "metadata": {},
   "source": [
    "# RFM Segmentation"
   ]
  },
  {
   "cell_type": "markdown",
   "metadata": {},
   "source": [
    "---\n",
    "**Please remove this insturction cell after you are done with coding**\n",
    "RFM segmentation categorizes your customers into different segments, according to their interactions with your website, which will allow you to subsequently approach these groups in the most effective way. In this article, we will show you how to make an RFM segmentation based on an RFM score combining all three RFM parameters together and allowing you to divide your customers into 11 different segments. \n",
    "\n",
    "- [RFM Segmentation business cases](https://docs.exponea.com/docs/rfm-segmentation-business-use)\n",
    "\n",
    "- [RFM Segmentation Guide](https://docs.exponea.com/docs/rfm-segmentation-business-use)\n",
    "\n",
    "As you can see, computing RFM segmentation requires extensive domain knowledge in marketing which is out of the scope in this project. In practice, you will work with BA/DA to figure out how to compute RFM segments. To simplify this project, a [sample RFM segmentation Notebook](https://github.com/jarviscanada/jarvis_data_eng_demo/blob/feature/data/python_data_wrangling/ipynb/customer-segmentation-with-rfm-score.ipynb) is provided. You are responsible to understand everything from that Notebook and then integrate it into yours. \n",
    "\n",
    "- Download the [sample notebook](https://github.com/jarviscanada/jarvis_data_eng_demo/blob/feature/data/python_data_wrangling/ipynb/customer-segmentation-with-rfm-score.ipynb) and import to your Jupyter Notebook or VSCode\n",
    "- Run the notebook and understand all cells\n",
    "- Read the remark section at the end of the notebook. You will need this information when writing the README file\n",
    "- Integrate the RFM segmentation calculation into your notebook\n",
    "\n",
    "---"
   ]
  },
  {
   "cell_type": "code",
   "execution_count": null,
   "metadata": {},
   "outputs": [],
   "source": []
  },
  {
   "cell_type": "code",
   "execution_count": null,
   "metadata": {},
   "outputs": [],
   "source": []
  }
 ],
 "metadata": {
  "kernelspec": {
   "display_name": "Python 3",
   "language": "python",
   "name": "python3"
  },
  "language_info": {
   "codemirror_mode": {
    "name": "ipython",
    "version": 3
   },
   "file_extension": ".py",
   "mimetype": "text/x-python",
   "name": "python",
   "nbconvert_exporter": "python",
   "pygments_lexer": "ipython3",
   "version": "3.9.7"
  }
 },
 "nbformat": 4,
 "nbformat_minor": 4
}
