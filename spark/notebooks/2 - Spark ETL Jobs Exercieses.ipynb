{
 "cells": [
  {
   "cell_type": "markdown",
   "metadata": {
    "application/vnd.databricks.v1+cell": {
     "cellMetadata": {},
     "inputWidgets": {},
     "nuid": "9be60341-fe75-47c1-b33c-d7bacb1fe4ff",
     "showTitle": false,
     "title": ""
    }
   },
   "source": [
    "# Learning Objectives\n",
    "\n",
    "In this notebook, you will craft sophisticated ETL jobs that interface with a variety of common data sources, such as \n",
    "- REST APIs (HTTP endpoints)\n",
    "- RDBMS\n",
    "- Hive tables (managed tables)\n",
    "- Various file formats (csv, json, parquet, etc.)"
   ]
  },
  {
   "cell_type": "markdown",
   "metadata": {
    "application/vnd.databricks.v1+cell": {
     "cellMetadata": {},
     "inputWidgets": {},
     "nuid": "5d9fe8dc-6b2e-4499-8961-7e01309d05f1",
     "showTitle": false,
     "title": ""
    }
   },
   "source": [
    "\n",
    "# Interview Questions\n",
    "\n",
    "As you progress through the practice, attempt to answer the following questions:\n",
    "\n",
    "## Columnar File\n",
    "- What is a columnar file format and what advantages does it offer?\n",
    "- Why is Parquet frequently used with Spark and how does it function?\n",
    "- How do you read/write data from/to a Parquet file using a DataFrame?\n",
    "\n",
    "## Partitions\n",
    "- How do you save data to a file system by partitions? (Hint: Provide the code)\n",
    "- How and why can partitions reduce query execution time? (Hint: Give an example)\n",
    "\n",
    "## JDBC and RDBMS\n",
    "- How do you load data from an RDBMS into Spark? (Hint: Discuss the steps and JDBC)\n",
    "\n",
    "## REST API and HTTP Requests\n",
    "- How can Spark be used to fetch data from a REST API? (Hint: Discuss making API requests)"
   ]
  },
  {
   "cell_type": "markdown",
   "metadata": {
    "application/vnd.databricks.v1+cell": {
     "cellMetadata": {},
     "inputWidgets": {},
     "nuid": "8c7f0dcb-2214-41ae-a6f4-12d5a34506ff",
     "showTitle": false,
     "title": ""
    }
   },
   "source": [
    "## ETL Job One: Parquet file\n",
    "### Extract\n",
    "Extract data from the managed tables (e.g. `bookings_csv`, `members_csv`, and `facilities_csv`)\n",
    "\n",
    "### Transform\n",
    "Data transformation requirements https://pgexercises.com/questions/aggregates/fachoursbymonth.html\n",
    "\n",
    "### Load\n",
    "Load data into a parquet file\n",
    "\n",
    "### What is Parquet? \n",
    "\n",
    "Columnar files are an important technique for optimizing Spark queries. Additionally, they are often tested in interviews.\n",
    "- https://www.youtube.com/watch?v=KLFadWdomyI\n",
    "- https://www.databricks.com/glossary/what-is-parquet"
   ]
  },
  {
   "cell_type": "code",
   "execution_count": 0,
   "metadata": {
    "application/vnd.databricks.v1+cell": {
     "cellMetadata": {
      "byteLimit": 2048000,
      "rowLimit": 10000
     },
     "inputWidgets": {},
     "nuid": "33324d02-bc67-4c31-b822-8fe8c69fead5",
     "showTitle": false,
     "title": ""
    }
   },
   "outputs": [],
   "source": [
    "# Write your solution here\n",
    "from pyspark.sql.functions import col\n",
    "# Step 1:Extract data from managed tables\n",
    "bookings_df = spark.table(\"bookings\")\n",
    "members_df = spark.table(\"members\")\n",
    "facilities_df = spark.table(\"facilities\")\n",
    "\n",
    "# Step 2:Transform data\n",
    "from pyspark.sql.functions import year, month, date_trunc\n",
    "\n",
    "# Transform data to calculate the total number of hours booked per facility per month\n",
    "result_df = bookings_df \\\n",
    "    .filter((bookings_df['starttime'] >= '2012-09-01') & (bookings_df['starttime'] < '2012-10-01')) \\\n",
    "    .groupBy('facid') \\\n",
    "    .agg(expr('sum(slots) as `Total Slots`')) \\\n",
    "    .orderBy('Total Slots')\n",
    "\n",
    "# Step 3: Load data into a Parquet file\n",
    "output_path = \"dbfs:/FileStore/parquet/parquet_file\"\n",
    "result_df.write.mode(\"overwrite\").parquet(output_path)\n",
    "\n"
   ]
  },
  {
   "cell_type": "markdown",
   "metadata": {
    "application/vnd.databricks.v1+cell": {
     "cellMetadata": {},
     "inputWidgets": {},
     "nuid": "b51d425e-d532-47e5-8cbf-a91ca78246b5",
     "showTitle": false,
     "title": ""
    }
   },
   "source": [
    "## ETL Job Two: Partitions\n",
    "\n",
    "### Extract\n",
    "Extract data from the managed tables (e.g. `bookings_csv`, `members_csv`, and `facilities_csv`)\n",
    "\n",
    "### Transform\n",
    "Transform the data https://pgexercises.com/questions/joins/threejoin.html\n",
    "\n",
    "### Load\n",
    "Partition the result data by facility column and then save to `threejoin_delta` managed table. Additionally, they are often tested in interviews.\n",
    "\n",
    "hint: https://spark.apache.org/docs/latest/api/python/reference/pyspark.sql/api/pyspark.sql.DataFrameWriter.partitionBy.html\n",
    "\n",
    "What are paritions? \n",
    "\n",
    "Partitions are an important technique to optimize Spark queries\n",
    "- https://www.youtube.com/watch?v=hvF7tY2-L3U&t=268s"
   ]
  },
  {
   "cell_type": "code",
   "execution_count": 0,
   "metadata": {
    "application/vnd.databricks.v1+cell": {
     "cellMetadata": {
      "byteLimit": 2048000,
      "rowLimit": 10000
     },
     "inputWidgets": {},
     "nuid": "32aea2ca-5178-4034-91ee-c09942c5f518",
     "showTitle": false,
     "title": ""
    }
   },
   "outputs": [],
   "source": [
    "# Write your solution here\n",
    "from pyspark.sql.functions import concat_ws\n",
    "\n",
    "# Extract data from managed tables\n",
    "bookings_df = spark.table(\"bookings\")\n",
    "members_df = spark.table(\"members\")\n",
    "facilities_df = spark.table(\"facilities\")\n",
    "\n",
    "# Transform data to produce a list of members who have used a tennis court\n",
    "tennis_bookings_df = bookings_df \\\n",
    "    .join(facilities_df, bookings_df.facid == facilities_df.facid) \\\n",
    "    .join(members_df, bookings_df.memid == members_df.memid) \\\n",
    "    .filter(facilities_df.name.rlike(\"Tennis\")) \\\n",
    "    .select(concat_ws(\", \", members_df.firstname, members_df.surname).alias(\"MemberName\"),\n",
    "            facilities_df.name.alias(\"CourtName\")) \\\n",
    "    .distinct() \\\n",
    "    .orderBy(\"MemberName\", \"CourtName\")\n",
    "\n",
    "# Load transformed data into \"threejoin_delta\" managed table partitioned by facility column\n",
    "tennis_bookings_df.write.mode(\"overwrite\").partitionBy(\"CourtName\").saveAsTable(\"threejoin_delta\")\n",
    "\n"
   ]
  },
  {
   "cell_type": "markdown",
   "metadata": {
    "application/vnd.databricks.v1+cell": {
     "cellMetadata": {},
     "inputWidgets": {},
     "nuid": "7610de14-acd6-4374-945d-661dbc08a08e",
     "showTitle": false,
     "title": ""
    }
   },
   "source": [
    "## ETL Job Three: HTTP Requests\n",
    "\n",
    "### Extract\n",
    "Extract daily stock price data price from the following companies, Google, Apple, Microsoft, and Tesla. \n",
    "\n",
    "Data Source\n",
    "- API: https://rapidapi.com/alphavantage/api/alpha-vantage\n",
    "- Endpoint: GET `TIME_SERIES_DAILY`\n",
    "\n",
    "Sample HTTP request\n",
    "\n",
    "```\n",
    "curl --request GET \\\n",
    "\t--url 'https://alpha-vantage.p.rapidapi.com/query?function=TIME_SERIES_DAILY&symbol=TSLA&outputsize=compact&datatype=json' \\\n",
    "\t--header 'X-RapidAPI-Host: alpha-vantage.p.rapidapi.com' \\\n",
    "\t--header 'X-RapidAPI-Key: [YOUR_KEY]'\n",
    "\n",
    "```\n",
    "\n",
    "Sample Python HTTP request\n",
    "\n",
    "```\n",
    "import requests\n",
    "\n",
    "url = \"https://alpha-vantage.p.rapidapi.com/query\"\n",
    "\n",
    "querystring = {\n",
    "    \"function\":\"TIME_SERIES_DAILY\",\n",
    "    \"symbol\":\"IBM\",\n",
    "    \"datatype\":\"json\",\n",
    "    \"outputsize\":\"compact\"\n",
    "}\n",
    "\n",
    "headers = {\n",
    "    \"X-RapidAPI-Host\": \"alpha-vantage.p.rapidapi.com\",\n",
    "    \"X-RapidAPI-Key\": \"[YOUR_KEY]\"\n",
    "}\n",
    "\n",
    "response = requests.get(url, headers=headers, params=querystring)\n",
    "\n",
    "data = response.json()\n",
    "\n",
    "# Now 'data' contains the daily time series data for \"IBM\"\n",
    "```\n",
    "\n",
    "### Transform\n",
    "Find **weekly** max closing price for each company.\n",
    "\n",
    "hints: \n",
    "  - Use a `for-loop` to get stock data for each company\n",
    "  - Use the spark `union` operation to concat all data into one DF\n",
    "  - create a new `week` column from the data column\n",
    "  - use `group by` to calcualte max closing price\n",
    "\n",
    "### Load\n",
    "- Partition `DF` by company\n",
    "- Load the DF in to a managed table called, `max_closing_price_weekly`"
   ]
  },
  {
   "cell_type": "code",
   "execution_count": 0,
   "metadata": {
    "application/vnd.databricks.v1+cell": {
     "cellMetadata": {
      "byteLimit": 2048000,
      "rowLimit": 10000
     },
     "inputWidgets": {},
     "nuid": "7b76fcc5-fc12-4401-a16c-e24c4c890dd0",
     "showTitle": false,
     "title": ""
    }
   },
   "outputs": [],
   "source": [
    "# Write your solution here\n",
    "\n",
    "import requests\n",
    "from pyspark.sql import SparkSession,DataFrame\n",
    "from pyspark.sql.functions import lit, weekofyear, max\n",
    "from functools import reduce\n",
    "import pandas as pd\n",
    "\n",
    "\n",
    "# Initialize Spark session\n",
    "spark = SparkSession.builder \\\n",
    "    .appName(\"StockPriceETL\") \\\n",
    "    .getOrCreate()\n",
    "\n",
    "# Define companies and their symbols\n",
    "companies = [(\"Google\", \"GOOGL\"), (\"Apple\", \"AAPL\"), (\"Microsoft\", \"MSFT\"), (\"Tesla\", \"TSLA\")]\n",
    "\n",
    "#headers\n",
    "api_key = \"d01b1e12b3msh1c971dd3e923817p141282jsna30e0ef7a63f\"\n",
    "headers = {\n",
    "    \"X-RapidAPI-Host\": \"alpha-vantage.p.rapidapi.com\",\n",
    "    \"X-RapidAPI-Key\": api_key\n",
    "}\n",
    "# Extract and transform data for each company\n",
    "dfs = []\n",
    "for company, symbol in companies:\n",
    "    # Make HTTP request to get daily stock price data\n",
    "    response = requests.get(\"https://alpha-vantage.p.rapidapi.com/query\",\n",
    "                            headers=headers,\n",
    "                            params={\"function\": \"TIME_SERIES_DAILY\",\n",
    "                                    \"symbol\": symbol,\n",
    "                                    \"datatype\": \"json\",\n",
    "                                    \"outputsize\": \"compact\"})\n",
    "    data = response.json()\n",
    "    # Convert data to DataFrame\n",
    "    df = spark.createDataFrame(pd.DataFrame(data[\"Time Series (Daily)\"])\n",
    "                               .transpose()\n",
    "                               .reset_index()\n",
    "                               .rename(columns={\"index\": \"date\"}))\n",
    "    # Convert date column to date type\n",
    "    df = df.withColumn(\"date\", df[\"date\"].cast(\"date\"))\n",
    "    # Calculate week column from date\n",
    "    df = df.withColumn(\"week\", weekofyear(\"date\"))\n",
    "    # Convert closing price to float\n",
    "    df = df.withColumn(\"close\", df[\"`4. close`\"].cast(\"float\"))\n",
    "    # Calculate max closing price for each week\n",
    "    weekly_max_df = df.groupBy(\"week\").agg(max(\"close\").alias(\"max_closing_price\"))\n",
    "    # Add company column\n",
    "    weekly_max_df = weekly_max_df.withColumn(\"company\", lit(company))\n",
    "    # Append to list of DataFrames\n",
    "    dfs.append(weekly_max_df)\n",
    "\n",
    "# Concatenate all DataFrames into one\n",
    "result_df = reduce(DataFrame.unionAll, dfs)\n",
    "\n",
    "# Partition by company\n",
    "result_df.write.partitionBy(\"company\").mode(\"overwrite\").saveAsTable(\"max_closing_price_weekly\")\n"
   ]
  },
  {
   "cell_type": "markdown",
   "metadata": {
    "application/vnd.databricks.v1+cell": {
     "cellMetadata": {},
     "inputWidgets": {},
     "nuid": "37f98592-1f5f-4b42-9350-6720e69a7c22",
     "showTitle": false,
     "title": ""
    }
   },
   "source": [
    "## ETL Job Four: RDBMS\n",
    "\n",
    "\n",
    "### Extract\n",
    "Extract RNA data from a public PostgreSQL database.\n",
    "\n",
    "- https://rnacentral.org/help/public-database\n",
    "- Extract 100 RNA records from the `rna` table (hint: use `limit` in your sql)\n",
    "- hint: use `spark.read.jdbc` https://docs.databricks.com/external-data/jdbc.html\n",
    "\n",
    "### Transform\n",
    "We want to load the data as it so there is no transformation required.\n",
    "\n",
    "\n",
    "### Load\n",
    "Load the DF in to a managed table called, `rna_100_records`"
   ]
  },
  {
   "cell_type": "code",
   "execution_count": 0,
   "metadata": {
    "application/vnd.databricks.v1+cell": {
     "cellMetadata": {
      "byteLimit": 2048000,
      "rowLimit": 10000
     },
     "inputWidgets": {},
     "nuid": "3011d775-d108-4cb0-85d1-bf21ae1c23d4",
     "showTitle": false,
     "title": ""
    }
   },
   "outputs": [
    {
     "output_type": "display_data",
     "data": {
      "text/html": [
       "<style scoped>\n",
       "  .table-result-container {\n",
       "    max-height: 300px;\n",
       "    overflow: auto;\n",
       "  }\n",
       "  table, th, td {\n",
       "    border: 1px solid black;\n",
       "    border-collapse: collapse;\n",
       "  }\n",
       "  th, td {\n",
       "    padding: 5px;\n",
       "  }\n",
       "  th {\n",
       "    text-align: left;\n",
       "  }\n",
       "</style><div class='table-result-container'><table class='table-result'><thead style='background-color: white'><tr><th>id</th><th>upi</th><th>timestamp</th><th>userstamp</th><th>crc64</th><th>len</th><th>seq_short</th><th>seq_long</th><th>md5</th></tr></thead><tbody><tr><td>6467147</td><td>URS000062AE4B</td><td>2014-05-29T15:05:26.000+0000</td><td>RNACEN</td><td>A30505128C56B09F</td><td>108</td><td>GTGCTTGCCTCAGCAGAATATATACTAAAATTGGAACGACACAGAGAAGTTTAGCATGGCCCCTTGCGCAAGGATGACACACAAATTCATGAAGCCTTCCATATTTTT</td><td>null</td><td>f92e69cce37c750bccd260ee78208759</td></tr><tr><td>6467150</td><td>URS000062AE4E</td><td>2014-05-29T15:05:26.000+0000</td><td>RNACEN</td><td>3EECEBCCB3FC43D1</td><td>71</td><td>GCGTCCATTGTCTAATGGGAAGGACAGAGGTTGTGTAACCTTTGGTATAGGTTCAAATCCTATTGGACGTG</td><td>null</td><td>f92ea95474d3801ce4f4c89c88c99a4a</td></tr><tr><td>6467153</td><td>URS000062AE51</td><td>2014-05-29T15:05:26.000+0000</td><td>RNACEN</td><td>41DBE95A8F0F64ED</td><td>1384</td><td>CANTTTTNGAATTTTGTTATGGTCTCAGCAAGCGCGCTCGCGGCGCGCATAACACACGCAAGTAGAGCGGTCTTACTGTATTTTTTGCACTCGTGAGGGTTAGCGGCGGACGGGTGAGTAACACGTAGGCAACCTGCCTGTAAGACTGGGATAACTACCGGAAACGGTAGCTAATACCGGATAGGCTTTCTTCTCACCTGAGAGGAAAGAGAAAGACGGAGCAATCTGTCACTTACAGATGGGCCTGCGGCGCATTAGCTAGTTGGTGAGGTAACGGCTCACCAAGGCGACGATGCGTAGCCGACCTGAGAGGGTGATCGGCCACACTGGGACTGAGACACGGCCCAGACTCCTACGGGAGGCAGCAGTAGGGAATCTTCCGCAATGGACGAAAGTCTGACGGAGCAACGCCGCGTGAGTGATGAAGGCCTTCGGGTCGTAAAGCTCTGTTGCCAAGGAAGAACAGCTGAGAGAGTAACTGCTCTCGGAATGACGGTACTTGAGAAGAAAGCCCCGGCTAACTACGTGCCAGCAGCCGCGGTAATACGTAGGGGGCAAGCGTTGTCCGGAATTATTGGGCGTAAAGCGCGCGCAGGCGGTAATGTAAGTTGGGTGTTTAAGGCGAGGGCTCAACCCTCGTTCGCACCCAAAACTGCATCACTTGAGTGCAGCAGAGGAAAGTGGAATTCCACGTGTAGCGGTGAAATGCGTAGAGATGTGGAGGAACACCAGTGGCGAAGGCGACTTTCTGGGCTGTAACTGACGCTGAGGCGCGAAAGCGTGGGGAGCAAACAGGATTAGATACCCTGGTAGTCCACGCCGTAAACGATGAATGCTAGGTGTTAGGGGTTTCGATACCCTTGGTGCCGAAGTTAACACATTAAGCATTCCGCCTGGGGAGTACGGTCGCAAGACTGAAACTCAAAGGAATTGACGGGGACCCGCACAAGCAGTGGAGTATGTGGTTTAATTCGAAGCAACGCGAAGAACCTTACCAGGTCTTGACATCTGAATGACCGGTGCAGAGATGTGCCTTTCCTTCGGGACATTCAAGACAGGTGGTGCATGGTTGTCGTCAGCTCGTGTCGTGAGATGTTGGGTTAAGTCCCGCAACGAGCGCAACCCCTAATTTTAGTTGCCAGCATTCAGTTGGGCACTCTAAAGTGACTGCCGGTGACAAACCGGAGGAAGGTGGGGATGACGTCAAATCATCATGCCCCTTATGACCTGGGCTACACACGTACTACAATGGTCGGTACAACGGGAAGCGAAGCCGCGAGGTGGAGCCAATCCTAAAAAGCCGATCTCAGTTCGGATTGTAGGCTGCAACTCGCCTACATGAAGTCGGAATTGCTAGTAATCGCGGATCAGCATGCCGCGGTGA</td><td>null</td><td>f92eb5e4ca8baf49faac53c9de6fd3a6</td></tr><tr><td>6467154</td><td>URS000062AE52</td><td>2014-05-29T15:05:26.000+0000</td><td>RNACEN</td><td>045EF834A0592D93</td><td>85</td><td>GCCTGGGTGGCTCAGTCGGTTGAGCTTCCGACTTCAGATCAGGTCATGATCTCACAGTTCGTGGGTTCAAGCCCCGCATCGGGCC</td><td>null</td><td>301d2533787f77f10f6d3e79d65abbb8</td></tr><tr><td>6467155</td><td>URS000062AE53</td><td>2014-05-29T15:05:26.000+0000</td><td>RNACEN</td><td>E0CDC2D926642A48</td><td>73</td><td>GCCTGGCTGGCTTGGTTGGTAGAACATGCGGCTCTTAATCTCAGGGTTGTGGGTTCAAGCCCCATGTTGGGCA</td><td>null</td><td>3e5c5e19ad2168b404fd9a99f9d3946f</td></tr><tr><td>6467158</td><td>URS000062AE56</td><td>2014-05-29T15:05:26.000+0000</td><td>RNACEN</td><td>5100105C0CA4EEE0</td><td>103</td><td>TTGCTTCCGCAGCACATACACTAACATTGGAAAGCTAAAGAGAAGATCAGCATGACCCCTACAGAAGGATGACATGCACACTCGTGACGCGTTCCATATTTTT</td><td>null</td><td>301d57150c047db06f1fbbe2141ee51d</td></tr><tr><td>6467159</td><td>URS000062AE57</td><td>2014-05-29T15:05:26.000+0000</td><td>RNACEN</td><td>60469075D67963B3</td><td>64</td><td>GGGGATTTAGCTCAGCGGCATAAGCACCTGCCTTGCAAGCAGGCAGTCGTTAGTTCGATCCCCG</td><td>null</td><td>3e5ce3c8e46358055351a9b0f82b944a</td></tr><tr><td>6467163</td><td>URS000062AE5B</td><td>2014-05-29T15:05:26.000+0000</td><td>RNACEN</td><td>D82C72ED7C1ED18F</td><td>92</td><td>TTATAGGATGAACCCTGATAGGGACAACTTATGCTACGGCATTTGATGAGAACCAGGGACTGTATTTTAGTAGATGCTTGTCTTTTCTGATA</td><td>null</td><td>3e5ce6ed34c972eb59e4fd097302eb34</td></tr><tr><td>6467164</td><td>URS000062AE5C</td><td>2014-05-29T15:05:26.000+0000</td><td>RNACEN</td><td>29351B9237BAC973</td><td>74</td><td>GGGCGGCTAGCTCAGCTGGTCAGAGCGCTCGCCTTACAAGCGAGAGGCCAGAGGTTCAAGTCCTCTGCCGCCCA</td><td>null</td><td>d9c6c16392e064dfa050b577045cd759</td></tr><tr><td>6467165</td><td>URS000062AE5D</td><td>2014-05-29T15:05:26.000+0000</td><td>RNACEN</td><td>75BD272B21090812</td><td>155</td><td>AACTTTCAGCGATCGATGTCTCGGCTCGAACAACGATGAAGGGCGCAGCGAAGTGTGATAAGCATTGTGAATTGCAGGATTCCGTGAACCAATAGGGACTTGAACGTACACTGCGCTTTCGGGAWATCCCTGAAAGCATGCCTACTTCAGTGTCC</td><td>null</td><td>f92fc59077d64c04257a7f047e91d085</td></tr><tr><td>6467167</td><td>URS000062AE5F</td><td>2014-05-29T15:05:26.000+0000</td><td>RNACEN</td><td>4C272E2D56FB2461</td><td>73</td><td>GTCCGTGTGGCCTAATGGATTAGGCGTCTGACTTCGGCTCAGAAGACTGCAGGTTCGAGTCCTGCCGGGGACG</td><td>null</td><td>3e5da7b37c1919fab054632638be88e2</td></tr><tr><td>6467174</td><td>URS000062AE66</td><td>2014-05-29T15:05:26.000+0000</td><td>RNACEN</td><td>87F7AB3C4FF7EF6D</td><td>73</td><td>GGGCCTGTAGCTCAACGGTTAGAGCCGACCGCTCATAACGGTCTGGTTGCAGGTTCGAGTCCTGCCGGGCCCA</td><td>null</td><td>301f16d26169daf30db8f0afbcfe9cb1</td></tr><tr><td>6467175</td><td>URS000062AE67</td><td>2014-05-29T15:05:26.000+0000</td><td>RNACEN</td><td>1435A5E8AC48F784</td><td>1734</td><td>AACCTGGTTGATCCTGCCAGTCGCCCTACGCTCGTCTCAAAGACTAAGCCATGCATGTGTAAGTATAAGCGAATTATACTGTGAAACTGCGAACGGCTCATTATATCAGTTATAATCCCTTCGGTAGTTCCTTTACACGGATACCTGCAGTAATTCTGGAATTAATACGTGCTGTACGGGCCCGACTTTCGGGGAGGGCCGCACTTATTAGGTCTAAGCCAACGTTATTGGTGAGTCATGATAATTGAGCAGATCGCTTTTCGGAGCGATGAATCGTTTGAGTTTCTGCCCCATCAGTTGTCGACGGTAGGGTATTGGCCTACGGTGACTATAACGGGTGACGGGGAGTTAGGGCTCGACTCCGGAGAGGGAGCCTGAGAGACGGCTACCACATCCAAGGAAGGCAGCAGGCGCGTAAATTACCCAATGTGGACTCCACGAGGTAGTGACGAGAAATATCAATGCGGGGCGCTTCGCGTCTTGCTATTGGAATGAGAGCAATGTAAAACCCTCATCGAGGATCAACTGGAGGGCAAGTCTGGTGCCAGCAGCCGCGGTAATTCCAGCTCCAGAAGCGTATGCTAAAGTTGTTGCAGTTAAAAAGCTCGTAGTTGAATTTCTGGTGTGGGAGCCCAGGCCTCGGTGCGAATGCGCCTTGTTTTGCTTTGCGGCTCCTTTGCCATCCTCGTTTTTCGTTAGAAAGGCGTCATTCACTGTAATCAAAGCAGAGTGTTCCAAGCAGGCCGTAGGGCCGGTATGTTTATTATGGGATGATCAGATAGGACTCGGGTGCTATTTTGTTGGTTTGCACATCTGAGTAATGATTAATAGGAACAGTCGGGGGTATCCGTATTTAGGAGCTAGAGGTGAAATTCTTGGATTTCCGAAAGACGAACTACAGCGAAGGCATTTACCAAGCATGTTTTCATTAATCAAGAACGAAAGTCTGGGGATCGAAGATGATTAGATACCATCGTAGTCTAGACCGTAAACGATGCCGACTTGCGATTGCGGGCAGCTTGTATTGGGCTATCCGCAGCAGCACATGAGAAATCAAAGTCTTTGGGTTCCGGGGGGAGTATGGTCGCAAGGCTGAAACTAAAGGAATTGACGGAAGGGCACCACCAGGAGTGGAGCCTGCGGCTTAATTTGACTCAACACGGGAAAACTTACCAGGTCCAGACATAGGTAGGATTGACAGATTGAGAGCTCTTTCTTGATTCTATGGGTGGTGGTGCATGGCCGTTCTTAGTTGGTGGAGTGATTTGTCTGGTTAATTCCGTTAACGAACGAGACCTCGGCCTACTAAATAGCCGGGCGTATGGCGACATATGTGTTTGTGGCTTCTTAGAGGGACATGTTCGGTTTACGAGCAGGAAGTTCGAGGCAATAACAGGTCTGTGATGCCCTTAGATGTTCTGGGCCGCACGCGCGCTACACTGATGGGTTCAGCGGGTCTTTGTTGTGTTTAATCGCAGCGTTGCTTTGTCGGAAGGCATGGCTAATCCTTTGAACGCCCATCGTGCTGGGGCTAGATTTTTGCAATTATTAATCTCCAACGAGGAATTCCTAGTAAACGCAAGTCATCAGCTTGCATTGAATACGTCCCTGCCCTTTGTACACACCGCCCGTCGCACCTACCGATTGAACGGTCCGATGAAACCATGGGACTACCTTTTGAGCGTTTGTTCGCGATGGAGGTGGGAACTCGGGTGAATCTTATTGTTTAGAGGA</td><td>null</td><td>3e5e14b272328d28fa69c59c723b4c4d</td></tr><tr><td>6467176</td><td>URS000062AE68</td><td>2014-05-29T15:05:26.000+0000</td><td>RNACEN</td><td>28112107613E7352</td><td>83</td><td>GTCAGGATGGCCGAGTGGTCTAAGGCGCCAGACTCAAGTTCTGGTCCTCGACGAGGGCGTGGGTTCAAATCCCACTTCTGACA</td><td>null</td><td>d9c7b146ee0c3d86e9113e09993e67e6</td></tr><tr><td>6467177</td><td>URS000062AE69</td><td>2014-05-29T15:05:26.000+0000</td><td>RNACEN</td><td>1D50C43C7FAB1A99</td><td>73</td><td>TGGGATATAGCTCAGTTGGTAGAGTGCTGGCCTTGAATGCATAAAGCCCTGGGTTCAATCCCCAGAACCACAC</td><td>null</td><td>f9314cf708bd7e56ed58f90f14e29f8c</td></tr><tr><td>6467178</td><td>URS000062AE6A</td><td>2014-05-29T15:05:26.000+0000</td><td>RNACEN</td><td>94D1CFF410AD8411</td><td>119</td><td>GTCTGTGGCCATGCCACCCTGAACAAGCCCGATCCCATCTGATCTCCGAAGCTAAGCAGGGTTGGGCCTGGTTAATACTTGGATGAGAGACCAACTAGGAAGACCAGGTGCTATAGGTG</td><td>null</td><td>301f1f6c3d5bdb1d51bce555cc45b353</td></tr><tr><td>6467182</td><td>URS000062AE6E</td><td>2014-05-29T15:05:26.000+0000</td><td>RNACEN</td><td>A54367FD9532D599</td><td>301</td><td>GTTATTGAATCTCTTGTAATTCCTTTTATATTAATACAGTTGGTTTTCCAACTATGACGATAAACGAATTTCGTAATAACCATTGCGGACGTGGGGGCAGTACCCACCACCTCCACCATTTACAACTTATGGGGGTGAACTAGATTCGACGGGTGACTAAAGGCTATTCTTTCGTTCGGAATTGTTCCTCCGTAAAGGGCTAATTTATAATTGCTAACGAAAGTTACGCACTTGCTGCTTAATTAACTTTGTTAATTAAGTAAACGGGGTCTGGGGCACCTGGCAACAGAACGCCCCTTAT</td><td>null</td><td>301f40ec2c8eb87c056d6e212855d91e</td></tr><tr><td>6467183</td><td>URS000062AE6F</td><td>2014-05-29T15:05:26.000+0000</td><td>RNACEN</td><td>64B5475D29E1398B</td><td>66</td><td>TCTTATGGATGAGCAAAGAAAGTAATTTCTGAAGAGGGAATCTACTCTTGGTGAAGATTCTATGAA</td><td>null</td><td>3e5ea892fea8366214bfdfd88ade6c74</td></tr><tr><td>6467184</td><td>URS000062AE70</td><td>2014-05-29T15:05:26.000+0000</td><td>RNACEN</td><td>6AF8CCE3FCAD4B30</td><td>176</td><td>GGGAGCAGGAGGGTCACTGACAGTGTACGACACTGAGGAAAGTCCCCTCTCCAAGATGCAAGCGGTCCGGTTAACGCCGGAGATCTGGGAAGGTCGGCTCTGTAATAGAAACGAACTGCATCAGATGTGTACTGTGAATCCGAAAGGAAGAGGTTGTCTGATTGTAGATGAACGAG</td><td>null</td><td>d9c808a502883599524b78b41831a098</td></tr><tr><td>6468599</td><td>URS000062B3F7</td><td>2014-05-29T15:05:26.000+0000</td><td>RNACEN</td><td>8C62A64B87529B23</td><td>138</td><td>CTCCTTTCAGGGTCACATCTGGAGAGTTTCCAGTACTCTACCAGTCTCGGTTATGGGAAGGAGAGTCAAGCAGAGGCCTATCCCTTCCATTCCTAGCTTGGGCAGTGGCTAGTGAGTGCAAGGCAATCTGCTACAAGT</td><td>null</td><td>f9932361f4c78397e5b7f522d8951505</td></tr><tr><td>6468600</td><td>URS000062B3F8</td><td>2014-05-29T15:05:26.000+0000</td><td>RNACEN</td><td>1E75C7455C83D79B</td><td>118</td><td>CTTGGCGGTCATAGCGAAGAGGGTCACACCCGTTCCCATCCCGAACACGGTCGTTAAGCTCTTCTGTGCCGATGGTAATTGGGGGCTGTCCCCCTGTGAGAGTAGGTCACTGCCAGGC</td><td>null</td><td>3eaa21aa89d9b80373a33fd9d89c8c76</td></tr><tr><td>6467186</td><td>URS000062AE72</td><td>2014-05-29T15:05:26.000+0000</td><td>RNACEN</td><td>93D679DDCC039689</td><td>1545</td><td>CAGAGTTGATTCTGGCTCAGGATGAACGCTGGCGGCGTGCCTAATACATGCAAGTCGAGCGAATGGATTAAGAGCTTGCTCTTATGAAGTTAGCGGCGGACGGGTGAGTAACACGTGGGTAACCTGCCCATAAGACTGGGATAACTCCGGGAAACCGGGGCTAATACCGGATAACATTTTGAACCGCATGGTTCGAAATTGAAAGGCGGCTTCGGCTGTCACTTATGGATGGACCCGCGTCGCATTAGCTAGTTGGTGAGGTAACGGCTCACCAAGGCAACGATGCGTAGCCGACCTGAGAGGGTGATCGGCCACACTGGGACTGAGACACGGCCCAGACTCCTACGGGAGGCAGCAGTAGGGAATCTTCCGCAATGGACGAAAGTCTGACGGAGCAACGCCGCGTGAGTGATGAAGGCTTTCGGGTCGTAAAACTCTGTTGTTAGGGAAGAACAAGTGCTAGTTGAATAAGCTGGCACCTTGACGGTACCTAACCAGAAAGCCACGGCTAACTACGTGCCAGCAGCCGCGGTAATACGTAGGTGGCAAGCGTTATCCGGAATTATTGGGCGTAAAGCGCGCGCAGGTGGTTTCTTAAGTCTGATGTGAAAGCCCACGGCTCAACCGTGGAGGGTCATTGGAAACTGGGAGACTTGAGTGCAGAAGAGGAAAGTGGAATTCCATGTGTAGCGGTGAAATGCGTAGAGATATGGAGGAACACCGGTGGCGAAGGCGACTTTCTGGTCTGTAACTGACACTGAGGCGCGAAAGCGTGGGGAGCAAACAGGATTAGATACCCTGGTAGTCCACGCCGTAAACGATGAGTGCTAAGTGTTAGAGGGTTTCCGCCCTTTAGTGCTGAAGTTAACGCATTAAGCACTCCGCCTGGGGAGTACGGCCGCAAGGCTGAAACTCAAAGGAATTGACGGGGGCCCGCACAAGCGGTGGAGCATGTGGTTTAATTCGAAGCAACGCGAAGAACCTTACCAGGTCTTGACATCCTCTGAAAACCCTAGAGATAGGGCTTCTCCTTCGGGAGCAGAGTGACAGGTGGTGCATGGTTGTCGTCAGCTCGTGTCGTGAGATGTTGGGTTAAGTCCCGCAACGAGCGCAACCCTTGATCTTAGTTGCCATCATTAAGTTGGGCACTCTAAGGTGACTGCCGGTGACAAACCGGAGGAAGGTGGGGATGACGTCAAATCATCATGCCCCTTATGACCTGGGCTACACACGTGCTACAATGGACGGTACAAAGAGCTGCAAGACCGCGAGGTGGAGCTAATCTCATAAAACCGTTCTCAGTTCGGATTGTAGGCTGCAACTCGCCTACATGAAGCTGGAATCGCTAGTAATCGCGGATCAGCATGCCGCGGTGAATACGTTCCCGGGCCTTGTACACACCGCCCGTCACACCACGAGAGTTTGTAACACCCGAAGTCGGTGGGGTAACCTTTTTGGAGCCAGCCGCCTAAGGTGGGACAGATGATTGGGGTGAAGTCGTAACAAGGTAGCCGTATCGGAAGGTGCGGCTGGATCACCTCCTTT</td><td>null</td><td>301f7f925b37e59e0b700a67aa22feb2</td></tr><tr><td>6467187</td><td>URS000062AE73</td><td>2014-05-29T15:05:26.000+0000</td><td>RNACEN</td><td>380FB0060BB361C7</td><td>279</td><td>GGATGTGAGGGTGATTGGCTGCAACATCTGTTAACCCACTGATTGCCAGGGTTGATTCAGCTGATCTGGCTGGGCTAAGTGGGTGTCCCCTTCCTCCCTCACCCGCTCCATGTGCGTCCCTCTCGAAGCCGCACGCTTGGTCGAAGAGGATGACCATCCACGACAGAGGAGGACCAGTCTTTGGTCAAGGGTATACAAGTAGCTGCACTCCCCTGCTAGAACTTCCAAACAAGCTCTCAAAGTAATATAGCTAGGGAAATTTTGAATATACAGAAGTCT</td><td>null</td><td>3e5ec8fad862b114a3961c905595cbb3</td></tr><tr><td>6467188</td><td>URS000062AE74</td><td>2014-05-29T15:05:26.000+0000</td><td>RNACEN</td><td>05A1275AD3F908F2</td><td>156</td><td>GACTCTCGGCAACGGATATCTCGGCTCTCGCATCGATGAARAACGTAGCGAAATGCGATACTTGGTGTGAATTGCAGAATCCCGTGAACCATCGAGTCTTTGAACGCAAGTTGCGCCCCAAGCCTTCTGGCCGAGGGCACGTCTGCCTGGGTGTCA</td><td>null</td><td>d9c81ed1c61e806a50f6cd3d8a23e7e8</td></tr><tr><td>6467195</td><td>URS000062AE7B</td><td>2014-05-29T15:05:26.000+0000</td><td>RNACEN</td><td>34F9D427DBF1B024</td><td>157</td><td>CACTGTTTGCCAACACTCTGGTGCCCGATCTTCAATGCCATGAGCTTTGATGCCATATTGGGTTCCTATTTTGGTGCAAACTAGAATAGTTCAGCTGACTACTCACCATCGTGCTCTACCAATATGGGCATGATAGGTCCATTTCATTAGCTTACAT</td><td>null</td><td>3e5f1da50e116eae9296549d023b32c2</td></tr><tr><td>6467199</td><td>URS000062AE7F</td><td>2014-05-29T15:05:26.000+0000</td><td>RNACEN</td><td>0990A096FC3AF386</td><td>74</td><td>GGCTCCATAGTGTAGTGGTTAGCACATCTGCTTTACATGCAGAAGGTCCTGGGTTTGCACCCCAGGTGGAGCCA</td><td>null</td><td>3e5f4ff983637e69c87e683c645d15ea</td></tr><tr><td>6467200</td><td>URS000062AE80</td><td>2014-05-29T15:05:26.000+0000</td><td>RNACEN</td><td>ABE0E8A809560A5E</td><td>84</td><td>TATTAGGTTGGTGCGAAAGTAATTGCAGTTTTTGCTATTACTTTTGACAGCAAAAACTGCAATTACTTTTGCACCAACCTAATA</td><td>null</td><td>d9c8885825d9f991359ed7ae739e3a8b</td></tr><tr><td>6467201</td><td>URS000062AE81</td><td>2014-05-29T15:05:26.000+0000</td><td>RNACEN</td><td>E44314C978364CDA</td><td>56</td><td>CAGTAATAATAAATCAACTGACCTGAAATGAAGAGAATACTCATTGCTGATTACTT</td><td>null</td><td>f932f586f73edb381c33610dc106dc7a</td></tr><tr><td>6467202</td><td>URS000062AE82</td><td>2014-05-29T15:05:26.000+0000</td><td>RNACEN</td><td>F7578075D67D5BC4</td><td>64</td><td>GGGGATTTAGCTCAGCGGTATAAGCGCCTGCCTTGCAAGCAGGCAGTCATGAGTTCGATCCCTG</td><td>null</td><td>30208fe5cc2e9b0661f3c7b7341de143</td></tr><tr><td>6467203</td><td>URS000062AE83</td><td>2014-05-29T15:05:26.000+0000</td><td>RNACEN</td><td>1D1F15106EBC93B1</td><td>60</td><td>GTAGCTCAGTGGTAGAGCGTTTGCCTTGCATGCATGAGGCCCTGGGTTCGATGCCTCAGC</td><td>null</td><td>3e5f5503fbecc6478be4aa22c85e651f</td></tr><tr><td>6467204</td><td>URS000062AE84</td><td>2014-05-29T15:05:26.000+0000</td><td>RNACEN</td><td>9A81649152804DB4</td><td>72</td><td>AGGCCCATAGCCAAGTGGTAAGGCAACGGACTTTGACTCCGTGATTCGCTGGTTCAAATCTAGCTGGGTCTG</td><td>null</td><td>d9c892d5cb474240713f02dac4d849c2</td></tr><tr><td>6467206</td><td>URS000062AE86</td><td>2014-05-29T15:05:26.000+0000</td><td>RNACEN</td><td>D1B8DECFBB8C951B</td><td>72</td><td>AGCAGCGTGGCTCAGTGGCAAGAGCCCGGGCTTGGGAGTCGGAGGTCGCGGGTTCGATTCCCGGCTCGGCCG</td><td>null</td><td>3020c6a746bea9c7c71d1f7fefe40988</td></tr><tr><td>6467210</td><td>URS000062AE8A</td><td>2014-05-29T15:05:26.000+0000</td><td>RNACEN</td><td>00775F93FC4BD16E</td><td>69</td><td>GGGATTGTAGCTCAGCGGTAGAGTGCTCGCCTTGCATGTGTGAGACCCTGGGTTCGATCCTCAGCACCA</td><td>null</td><td>3021122828f9ab5f70a0e6cecd99ce88</td></tr><tr><td>6467212</td><td>URS000062AE8C</td><td>2014-05-29T15:05:26.000+0000</td><td>RNACEN</td><td>E10B724F9B57CCF4</td><td>158</td><td>GGGTGCTTGAGGCTGTCTGGCGTTAAGCATTCGCGAGGTTCCAGATGGACAAAAGCCCCAGGCGATATTTCTATCAACCTGAGGCTCGCGTTCGAACCCAAACAATTCGAATGTTAGTCTCTTCTTTGCAGGGAGGCAAGACATGCTGACAAAATATG</td><td>null</td><td>d9c926039150371935600270eda2f63a</td></tr><tr><td>6467216</td><td>URS000062AE90</td><td>2014-05-29T15:05:26.000+0000</td><td>RNACEN</td><td>FC9FE37BA0589553</td><td>66</td><td>ATAGAAGGATCATCTGTTAAAACCGTCACCTCGTGTGACAACACAGATATCACCACATCCTGTGGA</td><td>null</td><td>d9c9363d148fd969038bba6305b1edd7</td></tr><tr><td>6467219</td><td>URS000062AE93</td><td>2014-05-29T15:05:26.000+0000</td><td>RNACEN</td><td>CEBE5B94F9BE4A63</td><td>156</td><td>GCGGAGCTGCCCGGTGCGTCAGGCAACTTTATCCCTGGGGCCAATAAGCATCCTCCGGGAGCTGGCTCTGGCCGGGCCTTGGTCCGGTTACCTGGTGCCCACCTGCTAACGCAGGCCTTAGGAGGATAAGACGCCAACGGCCATGGTGGCTCCGCA</td><td>null</td><td>3e60202c53a5ef242f362d3216d92398</td></tr><tr><td>6467220</td><td>URS000062AE94</td><td>2014-05-29T15:05:26.000+0000</td><td>RNACEN</td><td>680273FA3D679DCD</td><td>71</td><td>CCCTGATGGTTTAGATGGTAAAGAATCTGGCTGCAACGCAGGAGATCCAGGTTCGATTCCTGGGTCAGGAA</td><td>null</td><td>d9c95ca0f1ce391d2f09440acc110860</td></tr><tr><td>6467223</td><td>URS000062AE97</td><td>2014-05-29T15:05:26.000+0000</td><td>RNACEN</td><td>BA7178B0826B6D36</td><td>692</td><td>CGACAACAGAGTCTGATCCTGGCTCAGGACGAACGCTGGCGGCGTGCCTAATACATGCAAGTCGAGCGGAACCAGGGGAGCTTGCTCCCTTGGTTTAGCGGCGGACGGGTGAGTAACACGTGGGCAACCTGCCCTGCAGATCGGGATAACTCCGGGAAACCGGTGCTAATACCGAATAGTTTGCGGCCTCTCATGAGGCTGCACGGAAAGACGGTTTCGGCTGTCACTGCAGGATGGGCCCGCGGCGCATTAGCTAGTTGGTGGGGTAACGGCCCACCAAGGCGACGATGCGTAGCCGACCTGAGAGGGTGATCGGCCACACTGGGACTGAGACACGGCCCAGACTCCTACGGGAGGCAGCAGTAGGGAATCTTCCGCAATGGACGAAAGTCTGACGGAGCAACGCCGCGTGAGTGAAGAAGGTTTTCGGATCGTAAAACTCTGTTGTGAGGGAAGAACAAGTACCACGTAACTACTGGTACCTTGACGGTACCTCACCAGAAAGCCACGGCTAACTACGTGCCAGCAGCCGCGGTAATACGTAGGTGGCAAGCGTTGTCCGGAATTATTGGGCGTAAAGCGCGCGCAGGCGGTCCTTTAAGTCTGATGTGAAAGCCCACGGCTCAACCGTGGAGGGTCATTGGAAACTGGGGGACTTGAGTGCAGAAGAGGAAAGTGGAATTCCACGTGTA</td><td>null</td><td>3e60530837a3eb875e123f0487a93f74</td></tr><tr><td>6467224</td><td>URS000062AE98</td><td>2014-05-29T15:05:26.000+0000</td><td>RNACEN</td><td>726DA16044FF9C4F</td><td>51</td><td>GGGGCTGTAGCTCAGTCGGTAGAGCATCTGCTTTGCAAGCAGGGGGTCAGG</td><td>null</td><td>d9c986070aba5bcedfe8660e7aa60cc3</td></tr><tr><td>6467227</td><td>URS000062AE9B</td><td>2014-05-29T15:05:26.000+0000</td><td>RNACEN</td><td>6C363435FD221AA9</td><td>72</td><td>CCCCCGGTGGCTTAGATGGTAAAGAATCTGCTTGCAGTGCAGGAGACCCAGGTTCGATGCCTGGATTGGGAA</td><td>null</td><td>3e606d9e1566ac4683b6a38495203b0f</td></tr><tr><td>6467229</td><td>URS000062AE9D</td><td>2014-05-29T15:05:26.000+0000</td><td>RNACEN</td><td>8AB3F91513AE7439</td><td>82</td><td>GCCCAGGTGGCGGAATTGGTAGACGCACTACCTTGAGGTGGTAGCGACGAGAGTCGTAGGGGTTCGAGTCCCCTCTTGGGCA</td><td>null</td><td>f934e51feb8de5e72870042566f9bb00</td></tr><tr><td>6467230</td><td>URS000062AE9E</td><td>2014-05-29T15:05:26.000+0000</td><td>RNACEN</td><td>E8A31B12CD1389FD</td><td>103</td><td>TTGCTTCAGCAGCACATACACTAAAATTGGAATGATACACACAAAATTAGCATGGCCCCTGTACCAGGATGACATGCACATTCGTGAAGCATGCTATATTTAA</td><td>null</td><td>30221875b7c2e46aea8957526d87b6a1</td></tr><tr><td>6468584</td><td>URS000062B3E8</td><td>2014-05-29T15:05:26.000+0000</td><td>RNACEN</td><td>04D204F991E04AA5</td><td>70</td><td>GGGAAGGTAGCTCAGTGGTAGTGCACTTGCCTTACATGCATGAGGCCCTGGGTTCGATTCCTCAGCACCA</td><td>null</td><td>3ea93886d38fcdd61f114ef92cfdd48b</td></tr><tr><td>6468585</td><td>URS000062B3E9</td><td>2014-05-29T15:05:26.000+0000</td><td>RNACEN</td><td>54475042EA85E231</td><td>45</td><td>ATCCATCCGATGAGTCCCAAGTAGAATGAAACGCGCGTCCCGGAT</td><td>null</td><td>da135f70c6ab5ba4187228b299918fc5</td></tr><tr><td>6468586</td><td>URS000062B3EA</td><td>2014-05-29T15:05:26.000+0000</td><td>RNACEN</td><td>D1118299CE16EB03</td><td>154</td><td>CACTTTCAACAACGGATCTCTTGGCTCTCGCATCGATGAAGAATGTAGCGAAGTGCGATAAGTAGTGTGAATTGCAGAATTCCGTGAATCATCGAATCTTTGAACGCAAATTGCACTCCCTGGCATTCCGGGGAGTATGCCTGTTTGAGGGTCA</td><td>null</td><td>30813317c3a12ab3ff6cd98a906877be</td></tr><tr><td>6468590</td><td>URS000062B3EE</td><td>2014-05-29T15:05:26.000+0000</td><td>RNACEN</td><td>F868FCEBEC1E1D7C</td><td>107</td><td>ATCCTTTTGTGATTCATAAGCCTGATGATTGGGTTTTCACGCTATTGTGTGAGTTACGACCCCCTACCTCAAACCTTGTTAGGACTCCGCATATTACCCCTCTGTGG</td><td>null</td><td>30816590122940b2fe656ecf5c8a7ff5</td></tr><tr><td>6468591</td><td>URS000062B3EF</td><td>2014-05-29T15:05:26.000+0000</td><td>RNACEN</td><td>12B4416F946F9548</td><td>72</td><td>TCCCTGGTGGCTCGGAGGTTAAAGCGTCTGCCTGCAATGCAGGAGACCTGGGTTCGATCCCTGGGTCGGGAA</td><td>null</td><td>f992df4131542e655e11a3388a575af6</td></tr><tr><td>6468604</td><td>URS000062B3FC</td><td>2014-05-29T15:05:26.000+0000</td><td>RNACEN</td><td>2EA0E22023A5F5C5</td><td>144</td><td>TAAATTTTGCATTTTTCGATGCTGCGATTTGGATAGCTTCACCCGTTCTTGGATTTCTTCCAGTAGTAGCAGCTCTATGGCTTACTGAAAAAGTTCCAAAGCCAGTAATTTTTACATTACCGCCACCTGATAAGGCTGAAGTGA</td><td>null</td><td>3eaa740229bf76614a86c778d783c30b</td></tr><tr><td>6468606</td><td>URS000062B3FE</td><td>2014-05-29T15:05:26.000+0000</td><td>RNACEN</td><td>1D77F411A2527FC2</td><td>85</td><td>GCCTGGGTGGCTCAGTCGGTTGGGCATCTGACTTCAGCTCAGGTCATGATCTCACTGTTTGTGGGTTCAAGCCCCGTGTTGGGCT</td><td>null</td><td>30823eae6c0f00e344103a10228c21a4</td></tr><tr><td>6468608</td><td>URS000062B400</td><td>2014-05-29T15:05:26.000+0000</td><td>RNACEN</td><td>30203232B3A7DA5D</td><td>72</td><td>GGGGCTATAGCTCAGTTGGTAGAGAGTTTGCCTCCCATGCACAAAGCCCTGGGTTCAATCCCCAGTACCCCA</td><td>null</td><td>3eaaf083fcf18f43e41c7d87e299530d</td></tr><tr><td>6468609</td><td>URS000062B401</td><td>2014-05-29T15:05:26.000+0000</td><td>RNACEN</td><td>4D21885CEACC2EE1</td><td>127</td><td>TAGTATCTGTTCTTATCAGCTTAACATCTGATAGTTCCTCCATTGGAGGACAACAAATGTTAAACTGGAAATTCGACCGTGAAATGTGTTTTCGGTATACCGATAAAAATTGGCAAGACAAACCATA</td><td>null</td><td>da15b4164e7df6c1615ac3637509180b</td></tr><tr><td>6468611</td><td>URS000062B403</td><td>2014-05-29T15:05:26.000+0000</td><td>RNACEN</td><td>17D5F7812A3F2E15</td><td>1787</td><td>CTGCCAGTAGTCATATGCTTGTCTCAAAGATTAAGCCATGCATGTCTAAGTATAAGCTGACTTATACTGTGAAACTGCGAATGGCTCATTAAATCAGTTATAGTTTATTTGATGGTACCTTACTACTCGGATAACCGTAGTAATTCTAGAGCTAATACGTGCGCAAATCCCGACTTCCGGAAGGGACGTATTTATTAGATAAAAGGCCGACCGGGCTTGCCCGACTCGCGGTGAATCATGATAACTTCACGAATCGCATGGCCTCCGTGCCGGCGATGTTTCATTCAAATTTCTGCCCTATCAACTTTCGATGGTAGGATAGAGGCCTACCATGGTGGTAACGGGTGACGGGGGATTAGGGTTCGATTCCGGAGAGGGAGCCTGAGAAACGGCTACCACATCCAAGGAAGGCAGCAGGCGCGCAAATTACCCAATCCTGACACAGGGAGGTAGTGACAATAAATAACAATACCGGGCTTTTCAAGTCTGGTAATTGGAATGAGTACAATCTAAATCCCTTAACGAGGATCAATTGGAGGGCAAGTCTGGTGCCAGCAGCCGCGGTAATTCCAGCTCCAATAGCGTATATTTAAGTTGCTGCAGTTAAAAAGCTCGTAGTTGGATTTCGGATGGGTTCCGTCGGTCCGCCGCTTCGGTGTGCACCGGCGGCGCCCATCTTGCTGCCGGGGACGGGCTCCTGGGCTTCACTGTCCGGGACTCGGAGTCGGCGAGGTTACTTTGAGTAAATTAGAGTGTTCAAAGCAGGCCTACGCTCTGAATACATTAGCATGGAATAACACGATAGGACTCTGGCCTATCTTGTTGGTCTGTAGGACCGGAGTAATGATTAAGAGGGACAGTCGGGGGCATTCGTATTTCATTGTCAGAGGTGAAATTCTTGGATTTATGAAAGACGAACTACTGCGAAAGCATTTGCCAAGGATGTTTTCATTAATCAAGAACGAAAGTTGGGGGCTCGAAGACGATTAGATACCGTCCTAGTCTCAACCATAAACGATGCCGACTAGGGATTGGTGGATGTTCTCTTGATGACTCCACCAGCACCTTATGAGAAATCAAAGTTTTTGGGTTCCGGGGGGAGTATGGTCGCAAGGCTGAAACTAAAGGAATTGACGGAAGGGCACCACCTGGCGTGGAGCCTGCGGCTTAATTTGACTCAACACGGGAAAACTTACCAGGTCCAGACATAGTGAGGATTGACAGATTGAGAGCTCTTTCTTGATTCTATGGGTGGTGGTGCATGGCCGTTCTTAGTTGGTGGGTTGCCTTGTCAGGTTGATTCCGGTAACGAACGAGACCTCAACCTGCTAAATAGTCACGTCCGGTTTTTCCGGTCGGCCGACTTCTTAGAGGGACTATTGGCGACTAGCCAATGGAAGTTTGAGGCAATAACAGGTCTGTGATGCCCTTAGATGTTCTGGGCCGCACGCGCGCTACACTGATGCATTCAACGAGCCTATCCTTGACCGACAGGTCCGGGTAATCTGTGAAACTGCATCGTGATGGGGATAGATTATTGCAATTATTAATCTTCAACGAGGAATGCCTAGTAAGCGCGAGTCATCAGCTCGCGTTGATTACGTCCCTGCCCTTTGTACACACCGCCCGTCGCTCCTACCGATTGGATGTGCTGGTGAAGCGTTTGGATTGGCGACAGCCGGCGGTAACGCTGACTGTCGCCGAGAAGTTCGTTAAACCCTCCCATCTAGAGGAAGGAGAAGTCGTAACAAGGTTTCCTTTCGCAGCTCCCTGCCGAAGCCTCAGCC</td><td>null</td><td>f9939a16ac150c432d76219445698ea2</td></tr><tr><td>6468614</td><td>URS000062B406</td><td>2014-05-29T15:05:26.000+0000</td><td>RNACEN</td><td>3558E4C2F4346CDC</td><td>72</td><td>GCCTCTGTAGTCGAAAGGATAAGATGCCTGCCCGGTAAGCAGGAGACTCAGGTTCGATTCCTGGCTGAGGTG</td><td>null</td><td>30825b4d5a3ca272019e6a0f774eb590</td></tr><tr><td>6468617</td><td>URS000062B409</td><td>2014-05-29T15:05:26.000+0000</td><td>RNACEN</td><td>25DB3F679B6A0503</td><td>110</td><td>ATGCCCCATGATGCTCAGGTCCGCCGCATCTCCTGGATCGTGGGGTCGGTCGGCTGACGATGTCCGAATCGGTTCCTCGTGCCGTGATCACATCGTTAGCCGACCGCCTT</td><td>null</td><td>da15f263f8af4a943103ec547e1ec8b0</td></tr><tr><td>6468618</td><td>URS000062B40A</td><td>2014-05-29T15:05:26.000+0000</td><td>RNACEN</td><td>7E6C38997216F49F</td><td>73</td><td>GCCCGGTTAGCTCAGTCGGTAGAGCACCAGACTCTTAATCTGGTTGTCGCGGGTTCGAGCCCCGCATCGGGCT</td><td>null</td><td>30829672b79de97941cae4876718c83e</td></tr><tr><td>6468619</td><td>URS000062B40B</td><td>2014-05-29T15:05:26.000+0000</td><td>RNACEN</td><td>A8EBE2AAD9EFD4EF</td><td>82</td><td>GTCGCTTTGGCCGAGTGGTTAAGGCGTGTGCTTGCTAAGTGCATGGGGATCCCCYGYGAGAGTTCGAACCTCTCAGGCGACG</td><td>null</td><td>f99417b6b72ff83bad1862acf234c74a</td></tr><tr><td>6468620</td><td>URS000062B40C</td><td>2014-05-29T15:05:26.000+0000</td><td>RNACEN</td><td>5A73F64F90FA9D78</td><td>64</td><td>GAGAAGTTGGCTCAGTGGTAGAGTTCTTGCCTTCCATGCATGAGGCCCTGGGTTAGATTCCTCA</td><td>null</td><td>3eab9b938117e27be81b425d17aab182</td></tr><tr><td>6468623</td><td>URS000062B40F</td><td>2014-05-29T15:05:26.000+0000</td><td>RNACEN</td><td>A11B747A9468A14E</td><td>72</td><td>TCCCTGGTGGCTCAGATGGTAAAGCGTCTGCCTGCAATGCAGGAGACCCAGGTTCAATCCCTGGGTTGGGAA</td><td>null</td><td>f9944721579c18f67d3de9587a977671</td></tr><tr><td>6468624</td><td>URS000062B410</td><td>2014-05-29T15:05:26.000+0000</td><td>RNACEN</td><td>D01120F67950490B</td><td>119</td><td>TCTGGCAGCTATCTCTTTGCAACTCTCACATGGTCCCACTACCTCTGAAGCTAAGCAGGACTGCACCCGGTCAGTACCTGGATGGGAGACCACATGGGAAAGCTAGGTTGATGCCAAAA</td><td>null</td><td>3ead1f1afdc7f7e8a2dd840ee6beadc6</td></tr><tr><td>6468625</td><td>URS000062B411</td><td>2014-05-29T15:05:26.000+0000</td><td>RNACEN</td><td>47CA05F3D8ACA724</td><td>105</td><td>AGTATTTGGTATCTGCGCTCTGCTGAAGCCAGTTACCTTCGGAAAAAGAGTTGGTAGCTCTTGATCCGGGCAACNAACCACCGCTGGTAGCGGTGGTTTTTTTGT</td><td>null</td><td>da1657ca011145960f6dcfbb7273fd44</td></tr><tr><td>6468629</td><td>URS000062B415</td><td>2014-05-29T15:05:26.000+0000</td><td>RNACEN</td><td>AF0CDD1CA91368C0</td><td>82</td><td>GCCTGGGTGGCTCAGTGGTTGAGCATCTGTCTTTGGCTCAGGGCCTGATCCCAAATCCTGGGATCAAGTCCCACGTCGGGCT</td><td>null</td><td>da1678a7f444ab0e4a655ca8985fad8b</td></tr><tr><td>6468631</td><td>URS000062B417</td><td>2014-05-29T15:05:26.000+0000</td><td>RNACEN</td><td>2D6A698409CE8477</td><td>125</td><td>GTGGTATTACCTCCGTTTCATAATTTTTGTCGAAATCTTACATGTATCTAGACACTTTTTAGGAATAGATACATCCATTTTTGAACAAATTTAAGACAAGAATTATGAAACGGAGGGAGTAACAT</td><td>null</td><td>f99487bb87ccb1008c495b85d268b905</td></tr><tr><td>6468635</td><td>URS000062B41B</td><td>2014-05-29T15:05:26.000+0000</td><td>RNACEN</td><td>0CBDFD267D707C33</td><td>118</td><td>GTCTACAGCCATGCCACCCTGAACAAGCTGGATCCCATCTGCTCTCGGAAGCTAAGCAAGGTCAGCCTGGTTAGTACTTGGATGGGAGACCACCTAGGAAGACCAGGTGCTATAGGTG</td><td>null</td><td>f994c8757191062df89507eaa2347a91</td></tr><tr><td>6468638</td><td>URS000062B41E</td><td>2014-05-29T15:05:26.000+0000</td><td>RNACEN</td><td>89C83A7760E34884</td><td>116</td><td>TGACTGGCAGCTAGCACTCTGCAACTCTCACATGGTCGCCCACTGAAGCTAAGCAGGGCTGTGCCCGGTCAGTACCTGGATGGGAGACCACATGGGAAAGCTAGGTTGCCAATTGG</td><td>null</td><td>3083c51cc3d2a6c952182507371317f1</td></tr><tr><td>6468639</td><td>URS000062B41F</td><td>2014-05-29T15:05:26.000+0000</td><td>RNACEN</td><td>823B89E7DA8E6D6F</td><td>71</td><td>TCCTGGTAGCTCAGTCGGTAAAGAATCTGCCTGCAGTGTAGAAGACCTGGGTTCGATCCCTGGGTCAGGAA</td><td>null</td><td>f9957074eb6098f47deb8b5400bd1d11</td></tr><tr><td>6468641</td><td>URS000062B421</td><td>2014-05-29T15:05:26.000+0000</td><td>RNACEN</td><td>A811F8FD5DFC9647</td><td>68</td><td>GTGGTGGCTCAGTGGTAGAGTGCTTGCCTAGCATGTGTGAGGCACTGGGTTCGAGTCTCAGCACCACA</td><td>null</td><td>da1811186980dad28006d43ef8411c4f</td></tr><tr><td>6468642</td><td>URS000062B422</td><td>2014-05-29T15:05:26.000+0000</td><td>RNACEN</td><td>3CD16FDAEE7C578F</td><td>65</td><td>TGGCGCTGAGGAGAGAATTGCTGTTGAACTACAGTGATAGTTTTATACGCTATTCTGAGCCAGCA</td><td>null</td><td>3083d9ee6a4ef0ed6a20877cc24345d7</td></tr><tr><td>6468645</td><td>URS000062B425</td><td>2014-05-29T15:05:26.000+0000</td><td>RNACEN</td><td>C017BE441C9ACDAB</td><td>138</td><td>TCCCTCTCAGGATAGTACCTGGAGAGTTTCCAGTACTCTACCAGTCTCGGCTATGGGAGGGAGAGTCGAGCAGAGGCCTGTCCATTTCATTCCCAGCTTAGGCAGTGGCTAGTGAGTGGAAGACAATCTGCTACAAGT</td><td>null</td><td>da18390e09ddd659fd60f6f836afdb9b</td></tr><tr><td>6468647</td><td>URS000062B427</td><td>2014-05-29T15:05:26.000+0000</td><td>RNACEN</td><td>9C7442C398172383</td><td>75</td><td>CGGGATGTAGCGCAGTCCTGGTAGCGCACCTGCATGGGGTGTAGGTGGTCGGAGGTTCAAATCCTCTCATCCCGG</td><td>null</td><td>f9957b4df8eab9add46f7fd94598c202</td></tr><tr><td>6468648</td><td>URS000062B428</td><td>2014-05-29T15:05:26.000+0000</td><td>RNACEN</td><td>D67AE0E17A969955</td><td>58</td><td>GCCGAGATAGCTCAGCCGGTAGAGCAGARGACTGAAAATCCTCGTGTCACCAGTTCAA</td><td>null</td><td>3eaf4c5399c46589e157680246c4211c</td></tr><tr><td>6468650</td><td>URS000062B42A</td><td>2014-05-29T15:05:26.000+0000</td><td>RNACEN</td><td>268507CFC73B2DE1</td><td>859</td><td>CGCCCTTAGAGTTTGATCCTGGCTCAGAACGAACGCTGGNGGCAGGCTTAACACATGCAAGTCGAGCGCCTCGCAAGAGGAGCGGCAGACGGGTGAGTAACGCGTGGGAATCTACCGTACCCTACGGAACAACACAGGGAAACTTGTGCTAATACCGGATAAGCCCTTACGGGGAAAGATTTATCGCCGAAAGATTGGCCCGCGTCTGATTAGCTAGTTGGTGAGGTAACGGCTCACCAAGGCGACGATCAGTAGCTGGTCTGAGAGGATGATCAGCCACATTGGGACTGAGACACGGCCCAAACTCCTACGGGAGGCAGCAGTGGGGAATATTGGACAATGGGCGAAAGCCTGATCCAGCCATGCCGCGTGAGTGATGAAGGCCCTAGGGTTGTAAAGCTCTTTTGTGCGGGAAGATAATGACGGTACCGCAAGAATAAGCCCCGGCTAACTTCGTGCCAGCAGCCGCGGTAATACGAAGGGGGCTAGCGTTGCTCGGAATCACTGGGCGTAAAGGGTGCGTAGGCGGGTTTTTAAGTCAGAGGTGAAATCCTGGAGCTCAACTCCAGAACTGCCTTTGATACTGAGAATCTTGAGTACGGGAGAGGTGAGTGGAACTGCGAGTGTAGAGGTGAAATTCGTAGATATTCGCAAGAACACCAGTGGCGAAGGCGGCTCACTGGCCCGTAACTGACGCTGAGGCACGAAAGCGTGGGGAGCAAACAGGATTAGATACCCTGGTAGTCCACGCCGTAAACGATGAATGCCAGCCGTTAGTGGGTTTACTCACTAGTGGCGCAGCTAACGCTTTAAGCATTCCGCCTGGGGAGTACGGTCGCAAGATTAAAACTCAAAGGAA</td><td>null</td><td>3083ea59caaae22f417707191dfeb57f</td></tr><tr><td>6468653</td><td>URS000062B42D</td><td>2014-05-29T15:05:26.000+0000</td><td>RNACEN</td><td>5388D535F88389A1</td><td>111</td><td>TGTGAGAGTGATGAGTTGCACGCTGGTGGAGCCGTAGTATCAGGTGATACAGGCATCACTCAGTACCACCCTGGTGACAAAATCATGTGCACAGGGGCCATCTGACTCACA</td><td>null</td><td>da18691a66be492cc6ff799543fcca06</td></tr><tr><td>6468654</td><td>URS000062B42E</td><td>2014-05-29T15:05:26.000+0000</td><td>RNACEN</td><td>B16BAB07621DA54C</td><td>68</td><td>GCATTGGTGGTTCAGTGGTAGAATTCCCGCCTCCCACGTGGGAGACCAGAGTTCGATTCTGCTGTGTG</td><td>null</td><td>3083ee8e929318a7cdc8af236caefb5d</td></tr><tr><td>6468655</td><td>URS000062B42F</td><td>2014-05-29T15:05:26.000+0000</td><td>RNACEN</td><td>7F6412B555D5398D</td><td>138</td><td>CACCTCCTATTGCTTACCACAGACTGGTTATTCTTTGAACAGATTGTATAGGAAAAGGAGGCAGAGAAACTTTTCTCTTGTACTCCTCAGTCAGGACCTTGTGTGTGCCCTAGCTGTATTGTGAAAGGAGAGAGAGTG</td><td>null</td><td>f995972f896b8b55b82275796aabfb11</td></tr><tr><td>6468656</td><td>URS000062B430</td><td>2014-05-29T15:05:26.000+0000</td><td>RNACEN</td><td>B71DCC6B843FB9D1</td><td>58</td><td>TGGCTCAGTGGTTGAGAGCACTGGTTGTTCTTCCAGAGGACCTGGGTTCAATTCCCAG</td><td>null</td><td>3eafd33d4661f4a8d5b2f2851baf1fba</td></tr><tr><td>6468657</td><td>URS000062B431</td><td>2014-05-29T15:05:26.000+0000</td><td>RNACEN</td><td>526DD108E9A82C66</td><td>141</td><td>AGTTTTGCGCAGTGGCAGTGTCATAGCCAATGAAGTTTATCTGATGCATGATTATTGCTAATTGAAAACTTTTCCCAGTATCCCGCCGTGATGTCTTGAAATATAGTCATCACTGGCAATTTTTTACAGTCTCCATGGAGA</td><td>null</td><td>da198108ed087cacb5157fdeabdafb71</td></tr><tr><td>6468661</td><td>URS000062B435</td><td>2014-05-29T15:05:26.000+0000</td><td>RNACEN</td><td>AC56BC4B9B375753</td><td>75</td><td>TTCAGTGATCATCGAATCTTTGAACGCACCTTGCGCCCCTTGGCTATTCCGAGGGGCATGCCTGTTTGAGTATCA</td><td>null</td><td>f995a18b91e706ab154dc76b24abb6fa</td></tr><tr><td>6468663</td><td>URS000062B437</td><td>2014-05-29T15:05:26.000+0000</td><td>RNACEN</td><td>4405CE3605AA79F6</td><td>73</td><td>TCTCTGGTGGTCCAGTGGTCAAGACATTGCTCTTTCAATGCAGGGGGTGTGGGTTCCATCCCTAGTCAGGGAA</td><td>null</td><td>3eafedbdedd7f46cb7b1366ba85d3463</td></tr><tr><td>6468667</td><td>URS000062B43B</td><td>2014-05-29T15:05:26.000+0000</td><td>RNACEN</td><td>9F4DF14133BB2796</td><td>72</td><td>GGCAGCGTGGCTTAGTGGAAAGAGCATAGGCTTGGGAGTCAAAGGTCATGGGTTCTAATCCCACCTCCGCCT</td><td>null</td><td>3eaff28d6520fc70a7778ff97a46b3c4</td></tr><tr><td>6468674</td><td>URS000062B442</td><td>2014-05-29T15:05:26.000+0000</td><td>RNACEN</td><td>08F8260E98659ED1</td><td>73</td><td>TCCCCGATAGCTCAGTTGGTAGAGCAGTTGACTGTTAATCAATTGGTCGCAGGTTCGAGTCCTGCTCGGGGAG</td><td>null</td><td>f99660c8fdd2186625297252e2e3e288</td></tr><tr><td>6468677</td><td>URS000062B445</td><td>2014-05-29T15:05:26.000+0000</td><td>RNACEN</td><td>FA1585490925A98F</td><td>73</td><td>TCCCTGGTGGTCCAGTGGTTAAGACTCCGTGCTCCCAATGCAGGAGACCCGGGTCCCATCCCTGGCCAGGGAA</td><td>null</td><td>30866035fbfcda93540d4134ded2ef9c</td></tr><tr><td>6468679</td><td>URS000062B447</td><td>2014-05-29T15:05:26.000+0000</td><td>RNACEN</td><td>8F511746E7AFB4D3</td><td>73</td><td>GGGGATATAGCTCAGTTAGTAGAGTGCTTGCCTTGCATGCACAAGGCCCTGGGTTAAAACCCTGGCATCACCA</td><td>null</td><td>3eb070cc03a14bc91861d5a24fc90316</td></tr><tr><td>6468680</td><td>URS000062B448</td><td>2014-05-29T15:05:26.000+0000</td><td>RNACEN</td><td>CE341526BDAD6FB6</td><td>73</td><td>GGGAATGTAGCTCAATTGGTAGAGCGCTCGCTTTGCATGCGAGAGGTACCGAGATCGAAACTCGGCATTTCCA</td><td>null</td><td>da1a5244f55da9f42a7f253113187d2e</td></tr><tr><td>6468683</td><td>URS000062B44B</td><td>2014-05-29T15:05:26.000+0000</td><td>RNACEN</td><td>AF2DABAD816732DD</td><td>107</td><td>GTGCTCACCCTGGCAACACATATACTAAAAGTTGGAATGATACAGTGAAGATTAGTATGGCCCCATGCAAGGGTTATATGCAAATTCATAAAGTGTTCTGTATTTCA</td><td>null</td><td>3eb0c6dffbbea8ffbb6b545e6b4e2cad</td></tr><tr><td>6468684</td><td>URS000062B44C</td><td>2014-05-29T15:05:26.000+0000</td><td>RNACEN</td><td>942FF285449D722C</td><td>1392</td><td>CGCCTTAAGTTGATCCTGGCCCCGATGATGTTGGCGGCGTGCCTAACACATGCAAGTCGAACGAAGCGCTTTGATTGATTCCTTCGGGCTCATTTCAAAGTGACTTAGTAGCGGACGGGTGAGTAACGCGTGGGTAACCTGCCTTGTACAGGGGGATAACAGTTAGAAATGACTGCTAATACCGCATAACCCGCTAAGGTCGCATGACCTGGACGGAAAAGATTTATCGGTACAAGATGGACCCGCGTCTGATTAGCTAGTTGGTGAGGTAACGGCCCACCAAGGCGACGATCAGTAGCCGGCCTGAGAGGGTGAACGGCCACATTGGGACTGAGACACGGCCCAAACTCCTACGGGAGGCAGCAGTGGGGAATATTGCACAATGGGGGAAACCCTGATGCAGCAACGCCGCGTGAGTGAAGAAGTATTTCGGTATGTAAAGCTCTATCAGCAGGGAAGAAAATGACGGTACCTGACTAAGAAGCCCCGGCTAACTACGTGCCAGCAGCCGCGGTAATACGTAGGGGGCAAGCGTTATCCGGATTTACTGGGTGTAAAGGGAGCGTAGACGGTTGTGCAAGTCTGAAGTGAAAGCCCGGGGCTCAACCCCGGGACTGCTTTGGAAACTGTATAACTGGAGTGCAGGAGAGGTAAGCGGAATTCCTAGTGTAGCGGTGAAATGCGTAGATATTAGGAGGAACACCAGTGGCGAAGGCGGCTTACTGGACTGTAACTGACGTTGAGGCTCGAAAGCGTGGGGAGCAAACAGGATTAGATACCCTGGTAGTCCACGCCGTAAACGATGAATACTAGCTGTTGGTGAGCAGAGCTCATCGGTGGCGCAGCTAACGCAATAAGTATTCCACCTGGGGAGTACGTTCGCAAGAATGAAACTCAAAGGAATTGACGGGGACCCGCACAAGCGGTGGAGCATGTGGTTTAATTCGAAGCAACGCGAAGAACCTTACCTGGTCTTGACATCCCGATGACCGACTCTTAACCGAGTCTTCTCTTCGGAGCATCGGAGACAGGTGGTGCATGGTTGTCGTCAGCTCGTGTCGTGAGATGTTGGGTTAAGTCCCGCAACGAGCGCAACCCTTATCTTTAGTAGCCAGCGGTCCGGCCGGGCACTCTAGAGAGACTGCCAGGGATAACCCGGAGGAAGGTGGGGATGACGTCAAATCATCATGCCCCTTATGATCAGGGCTACACACGTGCTACAATGGCGTAAACAAAGGGAAGCAGAGCCGCGAGGCCGAGCAAATCTCAAAAATAACGTCTCAGTTCGGATTGTAGTCTGCAACTCGACTACATGAAGCTGGAATCGCTAGTAATCGCGAATCAGAATGTCGCGGTGAATACGTTCCCGGGTCTTAGTACACACCGCCCGTC</td><td>null</td><td>da1a7bdc43438234415e2955e9bc4512</td></tr><tr><td>6468687</td><td>URS000062B44F</td><td>2014-05-29T15:05:26.000+0000</td><td>RNACEN</td><td>8ECB46FF0094CE61</td><td>126</td><td>GTCTACGACCATAACACCCTGAACGCGCCCCATCTCGTCTGATCTCGGAAGCTAAGCAGGGTCACGCCTGGTTAGTACTTGGATGGGAGAAAATACACAAACACACCAAAAAGGCACTTGTTCACC</td><td>null</td><td>3eb11103e56ec0c5eacef5145e8f08d4</td></tr><tr><td>6468690</td><td>URS000062B452</td><td>2014-05-29T15:05:26.000+0000</td><td>RNACEN</td><td>66E548E02CA04FFA</td><td>73</td><td>GCCTGGCTGGCTCAGTCGGTAGAGCATGTGACTTTTCATCTTGGGATTGTGTGTTCGAGCCTCACGTTGGGTG</td><td>null</td><td>f997b6da01c8570d766f4ff4e5e0ed40</td></tr><tr><td>6468691</td><td>URS000062B453</td><td>2014-05-29T15:05:26.000+0000</td><td>RNACEN</td><td>46A6709B3B9DBAAD</td><td>431</td><td>TCCTCGCTCAAAGAATCGCAACGAAGCACACGCACAGAGCGCCTCTCGGGGTGTCTCTTCCCACGCTTTGGGGAAAGTCCCCGGACAACGATCATCGCGATCGCACTTTCAGCAACGAACCGCCATAGAAGCCGCGGCTTCCAACCGATCACGACATTTCTCGCATCTCTTTATCCGTCTGCACTCTTTTCGACAGCTTTCACGAGGCTGCAGGGTGGGGATCTGGCACTTGGATGATGATATGAGTCCGCTGGTGACCCGGTCTGCGTGCTGAAGGTTCGCTGGAGATTGGAGGAGGAGGGAGTTGTTGGGAGGTGCCAGGTATGGAGGGTCTTCTCGTCCAGTTTATGGTTATGCGATTGCCTCCTTTGCGCTTCGGTCACACGGGGTGTCTAGGAGGTAACTCAATGGGGCTCATTCTTGAGGCGAGG</td><td>null</td><td>3eb13133b539c63aa3f2c356cb60a3bf</td></tr><tr><td>6468693</td><td>URS000062B455</td><td>2014-05-29T15:05:26.000+0000</td><td>RNACEN</td><td>D8CBBA443CC9108C</td><td>119</td><td>ATGTTCGATCATACCAGCACTAATGCACCGGATCCCATGAGAACTCCGCAGTTAAGTTTGTTTGGGCGAGAGTAGTACTCGGATGTGTGACCTCCGGGGAAGTCCTCGTGTTGCAACCT</td><td>null</td><td>3087255b0d299f25bc090e591a31350c</td></tr><tr><td>6468695</td><td>URS000062B457</td><td>2014-05-29T15:05:26.000+0000</td><td>RNACEN</td><td>4C58BDA0FF7708F8</td><td>156</td><td>GACTCTCGGCAACGGATATCTCGGCTCTCGCATCGATGAAGAACGTAGCGAAATGCGATACCTGGTGTGAATTGCAGAATCCCGCGAACCATCGAGTCTTTGAACGCAAGTTGCGCCTGAGGCCATTCGGTTGAGGGCACGCCTGCCTGGGCGTCA</td><td>null</td><td>3eb188a5fdfb773ce22973927b012717</td></tr><tr><td>6468696</td><td>URS000062B458</td><td>2014-05-29T15:05:26.000+0000</td><td>RNACEN</td><td>D2B2ABEC4C58C815</td><td>120</td><td>GTCTATGGCCATAAAACCCTGAACTTGCCAGATCTCATCTGATTTGGGAAGCTAAGCAGGGTCGGGTCTAGTTAGAACTTGGATGGGAGACCACCCCGAGAATATCAAATGCTATAGGCT</td><td>null</td><td>da1b0e29a3cbf86d4bd152a77f933b4f</td></tr><tr><td>6468697</td><td>URS000062B459</td><td>2014-05-29T15:05:26.000+0000</td><td>RNACEN</td><td>2D37B88489AA8997</td><td>71</td><td>GCTGTGGTGGTGCAGTGGTAGAATTCTCACCTTCCATGCAGGAGATCCAGGTTCAATTCCCGGCCAATGCA</td><td>null</td><td>308782cfab0658eb0b867df63af8106b</td></tr><tr><td>6468699</td><td>URS000062B45B</td><td>2014-05-29T15:05:26.000+0000</td><td>RNACEN</td><td>20D6B3FFC1C5621A</td><td>131</td><td>GTGCTGTATGAAAGCAGAGAAGGCTAGAGTTCCTCTTAACAAGTATGAAAGGGGCCCTTGGCCTGACAGCACACATATAGTTAAGACATTGCCTTTGTCTTCATGGTATATAGAATTAATTTGAAATTTGT</td><td>null</td><td>3eb1bf0a7d418b2871c028c5d045c604</td></tr><tr><td>6468701</td><td>URS000062B45D</td><td>2014-05-29T15:05:26.000+0000</td><td>RNACEN</td><td>5E27B42770B2C71E</td><td>72</td><td>GGCTCAGTAGCTTAGTTGGTAAAGCGCTCGTCTAGCATACAAGAGTCCTAGGTTCAAATCCCAGCCGAGCAC</td><td>null</td><td>3087f66bce09640d8e0557d4eb12f6b1</td></tr><tr><td>6468702</td><td>URS000062B45E</td><td>2014-05-29T15:05:26.000+0000</td><td>RNACEN</td><td>7A76A66E1E954AA3</td><td>421</td><td>ACAACAAAAACAAGAAACGAAGCGGCAAACCAATAAAAACAAGACGTAACGGCTCTGACATAACAAGAACAAAACGGACAGAGGCGCAGCTAACAGATTTTTTTGGAGTGGATCAGCTTTACAGGGACCTTTCGGTGAAAGGCCTCGCGACCGGACAGAGAACAATAAAACTACCTTCAGGTAGCTTCCGAACCGGTGGGATCACGATGTTGTGCAGACAGGTGATTAAAGCGAGTCAGCGCTCAAAAAAATACGTTTGCTCTTGACCCCGGATGGGGGTCGCTCAACAACGCTGTAAAGGGACTGGCCATCAACAACAATAACAGGCCGCCCTACAACAATAAAAAGAGCAGGTAAAACACATTGGAGGAGAGCTACGGCTCTCCTTTGTGTTTTTCGTCCACAGGAAGCTGCAGCGTAG</td><td>null</td><td>f9980705c6b743184f93b297de645b61</td></tr><tr><td>6468706</td><td>URS000062B462</td><td>2014-05-29T15:05:26.000+0000</td><td>RNACEN</td><td>7C7927DC5F3F8456</td><td>260</td><td>CGTGCCTGTAGTCCCAGCTACTCAGGAGGCTGAGGCTGGAGGATCTCTTGAACCCAGGAGTTCTGGGCTGTAGCGCACTATGCCAATCGGGTGTCTGCACTAAGTTCATCATCAATATGGTGACCTCCCGGGAGCGGGGGACCACCAGGTGGCCTGAGGAGGGGTGAACCGGCCCAGGTTGGAAACGGAGCAGGTCAAAATTCCCATGCTGATCAGTAGTTGGATCGCACCTGTGAATAGCCACTGCACTCCAGCCTGGG</td><td>null</td><td>f9980f137295c362425ea9a86c540194</td></tr><tr><td>6468707</td><td>URS000062B463</td><td>2014-05-29T15:05:26.000+0000</td><td>RNACEN</td><td>E80269673C02DC62</td><td>156</td><td>GACTCTCGGCAATGGATATCTCGGCTCTTGCATCGATGAAGAACGTAGTGAAATGCGATACTTGGTGTGAATTGCAGAATCTCGTGAACCATTGAGTCTTTGAACGCAAGTTGTGCCCGAGGCTTCGTGGCCGAGGGCACGCCTGCTTGGGCGTCA</td><td>null</td><td>3eb1e6c07f1651b8cc570db7f0b94b53</td></tr><tr><td>6467231</td><td>URS000062AE9F</td><td>2014-05-29T15:05:26.000+0000</td><td>RNACEN</td><td>25A1047855F46D3D</td><td>94</td><td>CGTANNGTGANTNGCAGAATTCAGTGAATCATCAAATCCTTGAACGCAACTTGCGCTCGCAAGTCCACTTGCGAGCATGCCTGTTTGAGTATCG</td><td>null</td><td>3e60815f17bdac582ee05b5c54a7820c</td></tr><tr><td>6467232</td><td>URS000062AEA0</td><td>2014-05-29T15:05:26.000+0000</td><td>RNACEN</td><td>99D0432869EA7DE6</td><td>119</td><td>AGGTGCGATCATACCAGCACTACAGCCCCGGATCCCATCAGAACTCCGCAGTTAAGTGTGCTTGGGGGAGAGTAGTACTCGGATCGGTGACCACCTGGGAAGCCCTCGTGTTGCACCTA</td><td>null</td><td>d9c9b9180e4602d26e449d1b01e51d8e</td></tr><tr><td>6467236</td><td>URS000062AEA4</td><td>2014-05-29T15:05:26.000+0000</td><td>RNACEN</td><td>E53B6322C42B1DD5</td><td>72</td><td>AACAGAGTGGTTCAGTGGAAAGAGCACGGGCTTGGGAGTCAGAAGTCATGGGTTCTAATCCCACCTCTGTCC</td><td>null</td><td>d9cad9e96d627170d97f0b1e33a84048</td></tr></tbody></table></div>"
      ]
     },
     "metadata": {
      "application/vnd.databricks.v1+output": {
       "addedWidgets": {},
       "aggData": [],
       "aggError": "",
       "aggOverflow": false,
       "aggSchema": [],
       "aggSeriesLimitReached": false,
       "aggType": "",
       "arguments": {},
       "columnCustomDisplayInfos": {},
       "data": [
        [
         6467147,
         "URS000062AE4B",
         "2014-05-29T15:05:26.000+0000",
         "RNACEN",
         "A30505128C56B09F",
         108,
         "GTGCTTGCCTCAGCAGAATATATACTAAAATTGGAACGACACAGAGAAGTTTAGCATGGCCCCTTGCGCAAGGATGACACACAAATTCATGAAGCCTTCCATATTTTT",
         null,
         "f92e69cce37c750bccd260ee78208759"
        ],
        [
         6467150,
         "URS000062AE4E",
         "2014-05-29T15:05:26.000+0000",
         "RNACEN",
         "3EECEBCCB3FC43D1",
         71,
         "GCGTCCATTGTCTAATGGGAAGGACAGAGGTTGTGTAACCTTTGGTATAGGTTCAAATCCTATTGGACGTG",
         null,
         "f92ea95474d3801ce4f4c89c88c99a4a"
        ],
        [
         6467153,
         "URS000062AE51",
         "2014-05-29T15:05:26.000+0000",
         "RNACEN",
         "41DBE95A8F0F64ED",
         1384,
         "CANTTTTNGAATTTTGTTATGGTCTCAGCAAGCGCGCTCGCGGCGCGCATAACACACGCAAGTAGAGCGGTCTTACTGTATTTTTTGCACTCGTGAGGGTTAGCGGCGGACGGGTGAGTAACACGTAGGCAACCTGCCTGTAAGACTGGGATAACTACCGGAAACGGTAGCTAATACCGGATAGGCTTTCTTCTCACCTGAGAGGAAAGAGAAAGACGGAGCAATCTGTCACTTACAGATGGGCCTGCGGCGCATTAGCTAGTTGGTGAGGTAACGGCTCACCAAGGCGACGATGCGTAGCCGACCTGAGAGGGTGATCGGCCACACTGGGACTGAGACACGGCCCAGACTCCTACGGGAGGCAGCAGTAGGGAATCTTCCGCAATGGACGAAAGTCTGACGGAGCAACGCCGCGTGAGTGATGAAGGCCTTCGGGTCGTAAAGCTCTGTTGCCAAGGAAGAACAGCTGAGAGAGTAACTGCTCTCGGAATGACGGTACTTGAGAAGAAAGCCCCGGCTAACTACGTGCCAGCAGCCGCGGTAATACGTAGGGGGCAAGCGTTGTCCGGAATTATTGGGCGTAAAGCGCGCGCAGGCGGTAATGTAAGTTGGGTGTTTAAGGCGAGGGCTCAACCCTCGTTCGCACCCAAAACTGCATCACTTGAGTGCAGCAGAGGAAAGTGGAATTCCACGTGTAGCGGTGAAATGCGTAGAGATGTGGAGGAACACCAGTGGCGAAGGCGACTTTCTGGGCTGTAACTGACGCTGAGGCGCGAAAGCGTGGGGAGCAAACAGGATTAGATACCCTGGTAGTCCACGCCGTAAACGATGAATGCTAGGTGTTAGGGGTTTCGATACCCTTGGTGCCGAAGTTAACACATTAAGCATTCCGCCTGGGGAGTACGGTCGCAAGACTGAAACTCAAAGGAATTGACGGGGACCCGCACAAGCAGTGGAGTATGTGGTTTAATTCGAAGCAACGCGAAGAACCTTACCAGGTCTTGACATCTGAATGACCGGTGCAGAGATGTGCCTTTCCTTCGGGACATTCAAGACAGGTGGTGCATGGTTGTCGTCAGCTCGTGTCGTGAGATGTTGGGTTAAGTCCCGCAACGAGCGCAACCCCTAATTTTAGTTGCCAGCATTCAGTTGGGCACTCTAAAGTGACTGCCGGTGACAAACCGGAGGAAGGTGGGGATGACGTCAAATCATCATGCCCCTTATGACCTGGGCTACACACGTACTACAATGGTCGGTACAACGGGAAGCGAAGCCGCGAGGTGGAGCCAATCCTAAAAAGCCGATCTCAGTTCGGATTGTAGGCTGCAACTCGCCTACATGAAGTCGGAATTGCTAGTAATCGCGGATCAGCATGCCGCGGTGA",
         null,
         "f92eb5e4ca8baf49faac53c9de6fd3a6"
        ],
        [
         6467154,
         "URS000062AE52",
         "2014-05-29T15:05:26.000+0000",
         "RNACEN",
         "045EF834A0592D93",
         85,
         "GCCTGGGTGGCTCAGTCGGTTGAGCTTCCGACTTCAGATCAGGTCATGATCTCACAGTTCGTGGGTTCAAGCCCCGCATCGGGCC",
         null,
         "301d2533787f77f10f6d3e79d65abbb8"
        ],
        [
         6467155,
         "URS000062AE53",
         "2014-05-29T15:05:26.000+0000",
         "RNACEN",
         "E0CDC2D926642A48",
         73,
         "GCCTGGCTGGCTTGGTTGGTAGAACATGCGGCTCTTAATCTCAGGGTTGTGGGTTCAAGCCCCATGTTGGGCA",
         null,
         "3e5c5e19ad2168b404fd9a99f9d3946f"
        ],
        [
         6467158,
         "URS000062AE56",
         "2014-05-29T15:05:26.000+0000",
         "RNACEN",
         "5100105C0CA4EEE0",
         103,
         "TTGCTTCCGCAGCACATACACTAACATTGGAAAGCTAAAGAGAAGATCAGCATGACCCCTACAGAAGGATGACATGCACACTCGTGACGCGTTCCATATTTTT",
         null,
         "301d57150c047db06f1fbbe2141ee51d"
        ],
        [
         6467159,
         "URS000062AE57",
         "2014-05-29T15:05:26.000+0000",
         "RNACEN",
         "60469075D67963B3",
         64,
         "GGGGATTTAGCTCAGCGGCATAAGCACCTGCCTTGCAAGCAGGCAGTCGTTAGTTCGATCCCCG",
         null,
         "3e5ce3c8e46358055351a9b0f82b944a"
        ],
        [
         6467163,
         "URS000062AE5B",
         "2014-05-29T15:05:26.000+0000",
         "RNACEN",
         "D82C72ED7C1ED18F",
         92,
         "TTATAGGATGAACCCTGATAGGGACAACTTATGCTACGGCATTTGATGAGAACCAGGGACTGTATTTTAGTAGATGCTTGTCTTTTCTGATA",
         null,
         "3e5ce6ed34c972eb59e4fd097302eb34"
        ],
        [
         6467164,
         "URS000062AE5C",
         "2014-05-29T15:05:26.000+0000",
         "RNACEN",
         "29351B9237BAC973",
         74,
         "GGGCGGCTAGCTCAGCTGGTCAGAGCGCTCGCCTTACAAGCGAGAGGCCAGAGGTTCAAGTCCTCTGCCGCCCA",
         null,
         "d9c6c16392e064dfa050b577045cd759"
        ],
        [
         6467165,
         "URS000062AE5D",
         "2014-05-29T15:05:26.000+0000",
         "RNACEN",
         "75BD272B21090812",
         155,
         "AACTTTCAGCGATCGATGTCTCGGCTCGAACAACGATGAAGGGCGCAGCGAAGTGTGATAAGCATTGTGAATTGCAGGATTCCGTGAACCAATAGGGACTTGAACGTACACTGCGCTTTCGGGAWATCCCTGAAAGCATGCCTACTTCAGTGTCC",
         null,
         "f92fc59077d64c04257a7f047e91d085"
        ],
        [
         6467167,
         "URS000062AE5F",
         "2014-05-29T15:05:26.000+0000",
         "RNACEN",
         "4C272E2D56FB2461",
         73,
         "GTCCGTGTGGCCTAATGGATTAGGCGTCTGACTTCGGCTCAGAAGACTGCAGGTTCGAGTCCTGCCGGGGACG",
         null,
         "3e5da7b37c1919fab054632638be88e2"
        ],
        [
         6467174,
         "URS000062AE66",
         "2014-05-29T15:05:26.000+0000",
         "RNACEN",
         "87F7AB3C4FF7EF6D",
         73,
         "GGGCCTGTAGCTCAACGGTTAGAGCCGACCGCTCATAACGGTCTGGTTGCAGGTTCGAGTCCTGCCGGGCCCA",
         null,
         "301f16d26169daf30db8f0afbcfe9cb1"
        ],
        [
         6467175,
         "URS000062AE67",
         "2014-05-29T15:05:26.000+0000",
         "RNACEN",
         "1435A5E8AC48F784",
         1734,
         "AACCTGGTTGATCCTGCCAGTCGCCCTACGCTCGTCTCAAAGACTAAGCCATGCATGTGTAAGTATAAGCGAATTATACTGTGAAACTGCGAACGGCTCATTATATCAGTTATAATCCCTTCGGTAGTTCCTTTACACGGATACCTGCAGTAATTCTGGAATTAATACGTGCTGTACGGGCCCGACTTTCGGGGAGGGCCGCACTTATTAGGTCTAAGCCAACGTTATTGGTGAGTCATGATAATTGAGCAGATCGCTTTTCGGAGCGATGAATCGTTTGAGTTTCTGCCCCATCAGTTGTCGACGGTAGGGTATTGGCCTACGGTGACTATAACGGGTGACGGGGAGTTAGGGCTCGACTCCGGAGAGGGAGCCTGAGAGACGGCTACCACATCCAAGGAAGGCAGCAGGCGCGTAAATTACCCAATGTGGACTCCACGAGGTAGTGACGAGAAATATCAATGCGGGGCGCTTCGCGTCTTGCTATTGGAATGAGAGCAATGTAAAACCCTCATCGAGGATCAACTGGAGGGCAAGTCTGGTGCCAGCAGCCGCGGTAATTCCAGCTCCAGAAGCGTATGCTAAAGTTGTTGCAGTTAAAAAGCTCGTAGTTGAATTTCTGGTGTGGGAGCCCAGGCCTCGGTGCGAATGCGCCTTGTTTTGCTTTGCGGCTCCTTTGCCATCCTCGTTTTTCGTTAGAAAGGCGTCATTCACTGTAATCAAAGCAGAGTGTTCCAAGCAGGCCGTAGGGCCGGTATGTTTATTATGGGATGATCAGATAGGACTCGGGTGCTATTTTGTTGGTTTGCACATCTGAGTAATGATTAATAGGAACAGTCGGGGGTATCCGTATTTAGGAGCTAGAGGTGAAATTCTTGGATTTCCGAAAGACGAACTACAGCGAAGGCATTTACCAAGCATGTTTTCATTAATCAAGAACGAAAGTCTGGGGATCGAAGATGATTAGATACCATCGTAGTCTAGACCGTAAACGATGCCGACTTGCGATTGCGGGCAGCTTGTATTGGGCTATCCGCAGCAGCACATGAGAAATCAAAGTCTTTGGGTTCCGGGGGGAGTATGGTCGCAAGGCTGAAACTAAAGGAATTGACGGAAGGGCACCACCAGGAGTGGAGCCTGCGGCTTAATTTGACTCAACACGGGAAAACTTACCAGGTCCAGACATAGGTAGGATTGACAGATTGAGAGCTCTTTCTTGATTCTATGGGTGGTGGTGCATGGCCGTTCTTAGTTGGTGGAGTGATTTGTCTGGTTAATTCCGTTAACGAACGAGACCTCGGCCTACTAAATAGCCGGGCGTATGGCGACATATGTGTTTGTGGCTTCTTAGAGGGACATGTTCGGTTTACGAGCAGGAAGTTCGAGGCAATAACAGGTCTGTGATGCCCTTAGATGTTCTGGGCCGCACGCGCGCTACACTGATGGGTTCAGCGGGTCTTTGTTGTGTTTAATCGCAGCGTTGCTTTGTCGGAAGGCATGGCTAATCCTTTGAACGCCCATCGTGCTGGGGCTAGATTTTTGCAATTATTAATCTCCAACGAGGAATTCCTAGTAAACGCAAGTCATCAGCTTGCATTGAATACGTCCCTGCCCTTTGTACACACCGCCCGTCGCACCTACCGATTGAACGGTCCGATGAAACCATGGGACTACCTTTTGAGCGTTTGTTCGCGATGGAGGTGGGAACTCGGGTGAATCTTATTGTTTAGAGGA",
         null,
         "3e5e14b272328d28fa69c59c723b4c4d"
        ],
        [
         6467176,
         "URS000062AE68",
         "2014-05-29T15:05:26.000+0000",
         "RNACEN",
         "28112107613E7352",
         83,
         "GTCAGGATGGCCGAGTGGTCTAAGGCGCCAGACTCAAGTTCTGGTCCTCGACGAGGGCGTGGGTTCAAATCCCACTTCTGACA",
         null,
         "d9c7b146ee0c3d86e9113e09993e67e6"
        ],
        [
         6467177,
         "URS000062AE69",
         "2014-05-29T15:05:26.000+0000",
         "RNACEN",
         "1D50C43C7FAB1A99",
         73,
         "TGGGATATAGCTCAGTTGGTAGAGTGCTGGCCTTGAATGCATAAAGCCCTGGGTTCAATCCCCAGAACCACAC",
         null,
         "f9314cf708bd7e56ed58f90f14e29f8c"
        ],
        [
         6467178,
         "URS000062AE6A",
         "2014-05-29T15:05:26.000+0000",
         "RNACEN",
         "94D1CFF410AD8411",
         119,
         "GTCTGTGGCCATGCCACCCTGAACAAGCCCGATCCCATCTGATCTCCGAAGCTAAGCAGGGTTGGGCCTGGTTAATACTTGGATGAGAGACCAACTAGGAAGACCAGGTGCTATAGGTG",
         null,
         "301f1f6c3d5bdb1d51bce555cc45b353"
        ],
        [
         6467182,
         "URS000062AE6E",
         "2014-05-29T15:05:26.000+0000",
         "RNACEN",
         "A54367FD9532D599",
         301,
         "GTTATTGAATCTCTTGTAATTCCTTTTATATTAATACAGTTGGTTTTCCAACTATGACGATAAACGAATTTCGTAATAACCATTGCGGACGTGGGGGCAGTACCCACCACCTCCACCATTTACAACTTATGGGGGTGAACTAGATTCGACGGGTGACTAAAGGCTATTCTTTCGTTCGGAATTGTTCCTCCGTAAAGGGCTAATTTATAATTGCTAACGAAAGTTACGCACTTGCTGCTTAATTAACTTTGTTAATTAAGTAAACGGGGTCTGGGGCACCTGGCAACAGAACGCCCCTTAT",
         null,
         "301f40ec2c8eb87c056d6e212855d91e"
        ],
        [
         6467183,
         "URS000062AE6F",
         "2014-05-29T15:05:26.000+0000",
         "RNACEN",
         "64B5475D29E1398B",
         66,
         "TCTTATGGATGAGCAAAGAAAGTAATTTCTGAAGAGGGAATCTACTCTTGGTGAAGATTCTATGAA",
         null,
         "3e5ea892fea8366214bfdfd88ade6c74"
        ],
        [
         6467184,
         "URS000062AE70",
         "2014-05-29T15:05:26.000+0000",
         "RNACEN",
         "6AF8CCE3FCAD4B30",
         176,
         "GGGAGCAGGAGGGTCACTGACAGTGTACGACACTGAGGAAAGTCCCCTCTCCAAGATGCAAGCGGTCCGGTTAACGCCGGAGATCTGGGAAGGTCGGCTCTGTAATAGAAACGAACTGCATCAGATGTGTACTGTGAATCCGAAAGGAAGAGGTTGTCTGATTGTAGATGAACGAG",
         null,
         "d9c808a502883599524b78b41831a098"
        ],
        [
         6468599,
         "URS000062B3F7",
         "2014-05-29T15:05:26.000+0000",
         "RNACEN",
         "8C62A64B87529B23",
         138,
         "CTCCTTTCAGGGTCACATCTGGAGAGTTTCCAGTACTCTACCAGTCTCGGTTATGGGAAGGAGAGTCAAGCAGAGGCCTATCCCTTCCATTCCTAGCTTGGGCAGTGGCTAGTGAGTGCAAGGCAATCTGCTACAAGT",
         null,
         "f9932361f4c78397e5b7f522d8951505"
        ],
        [
         6468600,
         "URS000062B3F8",
         "2014-05-29T15:05:26.000+0000",
         "RNACEN",
         "1E75C7455C83D79B",
         118,
         "CTTGGCGGTCATAGCGAAGAGGGTCACACCCGTTCCCATCCCGAACACGGTCGTTAAGCTCTTCTGTGCCGATGGTAATTGGGGGCTGTCCCCCTGTGAGAGTAGGTCACTGCCAGGC",
         null,
         "3eaa21aa89d9b80373a33fd9d89c8c76"
        ],
        [
         6467186,
         "URS000062AE72",
         "2014-05-29T15:05:26.000+0000",
         "RNACEN",
         "93D679DDCC039689",
         1545,
         "CAGAGTTGATTCTGGCTCAGGATGAACGCTGGCGGCGTGCCTAATACATGCAAGTCGAGCGAATGGATTAAGAGCTTGCTCTTATGAAGTTAGCGGCGGACGGGTGAGTAACACGTGGGTAACCTGCCCATAAGACTGGGATAACTCCGGGAAACCGGGGCTAATACCGGATAACATTTTGAACCGCATGGTTCGAAATTGAAAGGCGGCTTCGGCTGTCACTTATGGATGGACCCGCGTCGCATTAGCTAGTTGGTGAGGTAACGGCTCACCAAGGCAACGATGCGTAGCCGACCTGAGAGGGTGATCGGCCACACTGGGACTGAGACACGGCCCAGACTCCTACGGGAGGCAGCAGTAGGGAATCTTCCGCAATGGACGAAAGTCTGACGGAGCAACGCCGCGTGAGTGATGAAGGCTTTCGGGTCGTAAAACTCTGTTGTTAGGGAAGAACAAGTGCTAGTTGAATAAGCTGGCACCTTGACGGTACCTAACCAGAAAGCCACGGCTAACTACGTGCCAGCAGCCGCGGTAATACGTAGGTGGCAAGCGTTATCCGGAATTATTGGGCGTAAAGCGCGCGCAGGTGGTTTCTTAAGTCTGATGTGAAAGCCCACGGCTCAACCGTGGAGGGTCATTGGAAACTGGGAGACTTGAGTGCAGAAGAGGAAAGTGGAATTCCATGTGTAGCGGTGAAATGCGTAGAGATATGGAGGAACACCGGTGGCGAAGGCGACTTTCTGGTCTGTAACTGACACTGAGGCGCGAAAGCGTGGGGAGCAAACAGGATTAGATACCCTGGTAGTCCACGCCGTAAACGATGAGTGCTAAGTGTTAGAGGGTTTCCGCCCTTTAGTGCTGAAGTTAACGCATTAAGCACTCCGCCTGGGGAGTACGGCCGCAAGGCTGAAACTCAAAGGAATTGACGGGGGCCCGCACAAGCGGTGGAGCATGTGGTTTAATTCGAAGCAACGCGAAGAACCTTACCAGGTCTTGACATCCTCTGAAAACCCTAGAGATAGGGCTTCTCCTTCGGGAGCAGAGTGACAGGTGGTGCATGGTTGTCGTCAGCTCGTGTCGTGAGATGTTGGGTTAAGTCCCGCAACGAGCGCAACCCTTGATCTTAGTTGCCATCATTAAGTTGGGCACTCTAAGGTGACTGCCGGTGACAAACCGGAGGAAGGTGGGGATGACGTCAAATCATCATGCCCCTTATGACCTGGGCTACACACGTGCTACAATGGACGGTACAAAGAGCTGCAAGACCGCGAGGTGGAGCTAATCTCATAAAACCGTTCTCAGTTCGGATTGTAGGCTGCAACTCGCCTACATGAAGCTGGAATCGCTAGTAATCGCGGATCAGCATGCCGCGGTGAATACGTTCCCGGGCCTTGTACACACCGCCCGTCACACCACGAGAGTTTGTAACACCCGAAGTCGGTGGGGTAACCTTTTTGGAGCCAGCCGCCTAAGGTGGGACAGATGATTGGGGTGAAGTCGTAACAAGGTAGCCGTATCGGAAGGTGCGGCTGGATCACCTCCTTT",
         null,
         "301f7f925b37e59e0b700a67aa22feb2"
        ],
        [
         6467187,
         "URS000062AE73",
         "2014-05-29T15:05:26.000+0000",
         "RNACEN",
         "380FB0060BB361C7",
         279,
         "GGATGTGAGGGTGATTGGCTGCAACATCTGTTAACCCACTGATTGCCAGGGTTGATTCAGCTGATCTGGCTGGGCTAAGTGGGTGTCCCCTTCCTCCCTCACCCGCTCCATGTGCGTCCCTCTCGAAGCCGCACGCTTGGTCGAAGAGGATGACCATCCACGACAGAGGAGGACCAGTCTTTGGTCAAGGGTATACAAGTAGCTGCACTCCCCTGCTAGAACTTCCAAACAAGCTCTCAAAGTAATATAGCTAGGGAAATTTTGAATATACAGAAGTCT",
         null,
         "3e5ec8fad862b114a3961c905595cbb3"
        ],
        [
         6467188,
         "URS000062AE74",
         "2014-05-29T15:05:26.000+0000",
         "RNACEN",
         "05A1275AD3F908F2",
         156,
         "GACTCTCGGCAACGGATATCTCGGCTCTCGCATCGATGAARAACGTAGCGAAATGCGATACTTGGTGTGAATTGCAGAATCCCGTGAACCATCGAGTCTTTGAACGCAAGTTGCGCCCCAAGCCTTCTGGCCGAGGGCACGTCTGCCTGGGTGTCA",
         null,
         "d9c81ed1c61e806a50f6cd3d8a23e7e8"
        ],
        [
         6467195,
         "URS000062AE7B",
         "2014-05-29T15:05:26.000+0000",
         "RNACEN",
         "34F9D427DBF1B024",
         157,
         "CACTGTTTGCCAACACTCTGGTGCCCGATCTTCAATGCCATGAGCTTTGATGCCATATTGGGTTCCTATTTTGGTGCAAACTAGAATAGTTCAGCTGACTACTCACCATCGTGCTCTACCAATATGGGCATGATAGGTCCATTTCATTAGCTTACAT",
         null,
         "3e5f1da50e116eae9296549d023b32c2"
        ],
        [
         6467199,
         "URS000062AE7F",
         "2014-05-29T15:05:26.000+0000",
         "RNACEN",
         "0990A096FC3AF386",
         74,
         "GGCTCCATAGTGTAGTGGTTAGCACATCTGCTTTACATGCAGAAGGTCCTGGGTTTGCACCCCAGGTGGAGCCA",
         null,
         "3e5f4ff983637e69c87e683c645d15ea"
        ],
        [
         6467200,
         "URS000062AE80",
         "2014-05-29T15:05:26.000+0000",
         "RNACEN",
         "ABE0E8A809560A5E",
         84,
         "TATTAGGTTGGTGCGAAAGTAATTGCAGTTTTTGCTATTACTTTTGACAGCAAAAACTGCAATTACTTTTGCACCAACCTAATA",
         null,
         "d9c8885825d9f991359ed7ae739e3a8b"
        ],
        [
         6467201,
         "URS000062AE81",
         "2014-05-29T15:05:26.000+0000",
         "RNACEN",
         "E44314C978364CDA",
         56,
         "CAGTAATAATAAATCAACTGACCTGAAATGAAGAGAATACTCATTGCTGATTACTT",
         null,
         "f932f586f73edb381c33610dc106dc7a"
        ],
        [
         6467202,
         "URS000062AE82",
         "2014-05-29T15:05:26.000+0000",
         "RNACEN",
         "F7578075D67D5BC4",
         64,
         "GGGGATTTAGCTCAGCGGTATAAGCGCCTGCCTTGCAAGCAGGCAGTCATGAGTTCGATCCCTG",
         null,
         "30208fe5cc2e9b0661f3c7b7341de143"
        ],
        [
         6467203,
         "URS000062AE83",
         "2014-05-29T15:05:26.000+0000",
         "RNACEN",
         "1D1F15106EBC93B1",
         60,
         "GTAGCTCAGTGGTAGAGCGTTTGCCTTGCATGCATGAGGCCCTGGGTTCGATGCCTCAGC",
         null,
         "3e5f5503fbecc6478be4aa22c85e651f"
        ],
        [
         6467204,
         "URS000062AE84",
         "2014-05-29T15:05:26.000+0000",
         "RNACEN",
         "9A81649152804DB4",
         72,
         "AGGCCCATAGCCAAGTGGTAAGGCAACGGACTTTGACTCCGTGATTCGCTGGTTCAAATCTAGCTGGGTCTG",
         null,
         "d9c892d5cb474240713f02dac4d849c2"
        ],
        [
         6467206,
         "URS000062AE86",
         "2014-05-29T15:05:26.000+0000",
         "RNACEN",
         "D1B8DECFBB8C951B",
         72,
         "AGCAGCGTGGCTCAGTGGCAAGAGCCCGGGCTTGGGAGTCGGAGGTCGCGGGTTCGATTCCCGGCTCGGCCG",
         null,
         "3020c6a746bea9c7c71d1f7fefe40988"
        ],
        [
         6467210,
         "URS000062AE8A",
         "2014-05-29T15:05:26.000+0000",
         "RNACEN",
         "00775F93FC4BD16E",
         69,
         "GGGATTGTAGCTCAGCGGTAGAGTGCTCGCCTTGCATGTGTGAGACCCTGGGTTCGATCCTCAGCACCA",
         null,
         "3021122828f9ab5f70a0e6cecd99ce88"
        ],
        [
         6467212,
         "URS000062AE8C",
         "2014-05-29T15:05:26.000+0000",
         "RNACEN",
         "E10B724F9B57CCF4",
         158,
         "GGGTGCTTGAGGCTGTCTGGCGTTAAGCATTCGCGAGGTTCCAGATGGACAAAAGCCCCAGGCGATATTTCTATCAACCTGAGGCTCGCGTTCGAACCCAAACAATTCGAATGTTAGTCTCTTCTTTGCAGGGAGGCAAGACATGCTGACAAAATATG",
         null,
         "d9c926039150371935600270eda2f63a"
        ],
        [
         6467216,
         "URS000062AE90",
         "2014-05-29T15:05:26.000+0000",
         "RNACEN",
         "FC9FE37BA0589553",
         66,
         "ATAGAAGGATCATCTGTTAAAACCGTCACCTCGTGTGACAACACAGATATCACCACATCCTGTGGA",
         null,
         "d9c9363d148fd969038bba6305b1edd7"
        ],
        [
         6467219,
         "URS000062AE93",
         "2014-05-29T15:05:26.000+0000",
         "RNACEN",
         "CEBE5B94F9BE4A63",
         156,
         "GCGGAGCTGCCCGGTGCGTCAGGCAACTTTATCCCTGGGGCCAATAAGCATCCTCCGGGAGCTGGCTCTGGCCGGGCCTTGGTCCGGTTACCTGGTGCCCACCTGCTAACGCAGGCCTTAGGAGGATAAGACGCCAACGGCCATGGTGGCTCCGCA",
         null,
         "3e60202c53a5ef242f362d3216d92398"
        ],
        [
         6467220,
         "URS000062AE94",
         "2014-05-29T15:05:26.000+0000",
         "RNACEN",
         "680273FA3D679DCD",
         71,
         "CCCTGATGGTTTAGATGGTAAAGAATCTGGCTGCAACGCAGGAGATCCAGGTTCGATTCCTGGGTCAGGAA",
         null,
         "d9c95ca0f1ce391d2f09440acc110860"
        ],
        [
         6467223,
         "URS000062AE97",
         "2014-05-29T15:05:26.000+0000",
         "RNACEN",
         "BA7178B0826B6D36",
         692,
         "CGACAACAGAGTCTGATCCTGGCTCAGGACGAACGCTGGCGGCGTGCCTAATACATGCAAGTCGAGCGGAACCAGGGGAGCTTGCTCCCTTGGTTTAGCGGCGGACGGGTGAGTAACACGTGGGCAACCTGCCCTGCAGATCGGGATAACTCCGGGAAACCGGTGCTAATACCGAATAGTTTGCGGCCTCTCATGAGGCTGCACGGAAAGACGGTTTCGGCTGTCACTGCAGGATGGGCCCGCGGCGCATTAGCTAGTTGGTGGGGTAACGGCCCACCAAGGCGACGATGCGTAGCCGACCTGAGAGGGTGATCGGCCACACTGGGACTGAGACACGGCCCAGACTCCTACGGGAGGCAGCAGTAGGGAATCTTCCGCAATGGACGAAAGTCTGACGGAGCAACGCCGCGTGAGTGAAGAAGGTTTTCGGATCGTAAAACTCTGTTGTGAGGGAAGAACAAGTACCACGTAACTACTGGTACCTTGACGGTACCTCACCAGAAAGCCACGGCTAACTACGTGCCAGCAGCCGCGGTAATACGTAGGTGGCAAGCGTTGTCCGGAATTATTGGGCGTAAAGCGCGCGCAGGCGGTCCTTTAAGTCTGATGTGAAAGCCCACGGCTCAACCGTGGAGGGTCATTGGAAACTGGGGGACTTGAGTGCAGAAGAGGAAAGTGGAATTCCACGTGTA",
         null,
         "3e60530837a3eb875e123f0487a93f74"
        ],
        [
         6467224,
         "URS000062AE98",
         "2014-05-29T15:05:26.000+0000",
         "RNACEN",
         "726DA16044FF9C4F",
         51,
         "GGGGCTGTAGCTCAGTCGGTAGAGCATCTGCTTTGCAAGCAGGGGGTCAGG",
         null,
         "d9c986070aba5bcedfe8660e7aa60cc3"
        ],
        [
         6467227,
         "URS000062AE9B",
         "2014-05-29T15:05:26.000+0000",
         "RNACEN",
         "6C363435FD221AA9",
         72,
         "CCCCCGGTGGCTTAGATGGTAAAGAATCTGCTTGCAGTGCAGGAGACCCAGGTTCGATGCCTGGATTGGGAA",
         null,
         "3e606d9e1566ac4683b6a38495203b0f"
        ],
        [
         6467229,
         "URS000062AE9D",
         "2014-05-29T15:05:26.000+0000",
         "RNACEN",
         "8AB3F91513AE7439",
         82,
         "GCCCAGGTGGCGGAATTGGTAGACGCACTACCTTGAGGTGGTAGCGACGAGAGTCGTAGGGGTTCGAGTCCCCTCTTGGGCA",
         null,
         "f934e51feb8de5e72870042566f9bb00"
        ],
        [
         6467230,
         "URS000062AE9E",
         "2014-05-29T15:05:26.000+0000",
         "RNACEN",
         "E8A31B12CD1389FD",
         103,
         "TTGCTTCAGCAGCACATACACTAAAATTGGAATGATACACACAAAATTAGCATGGCCCCTGTACCAGGATGACATGCACATTCGTGAAGCATGCTATATTTAA",
         null,
         "30221875b7c2e46aea8957526d87b6a1"
        ],
        [
         6468584,
         "URS000062B3E8",
         "2014-05-29T15:05:26.000+0000",
         "RNACEN",
         "04D204F991E04AA5",
         70,
         "GGGAAGGTAGCTCAGTGGTAGTGCACTTGCCTTACATGCATGAGGCCCTGGGTTCGATTCCTCAGCACCA",
         null,
         "3ea93886d38fcdd61f114ef92cfdd48b"
        ],
        [
         6468585,
         "URS000062B3E9",
         "2014-05-29T15:05:26.000+0000",
         "RNACEN",
         "54475042EA85E231",
         45,
         "ATCCATCCGATGAGTCCCAAGTAGAATGAAACGCGCGTCCCGGAT",
         null,
         "da135f70c6ab5ba4187228b299918fc5"
        ],
        [
         6468586,
         "URS000062B3EA",
         "2014-05-29T15:05:26.000+0000",
         "RNACEN",
         "D1118299CE16EB03",
         154,
         "CACTTTCAACAACGGATCTCTTGGCTCTCGCATCGATGAAGAATGTAGCGAAGTGCGATAAGTAGTGTGAATTGCAGAATTCCGTGAATCATCGAATCTTTGAACGCAAATTGCACTCCCTGGCATTCCGGGGAGTATGCCTGTTTGAGGGTCA",
         null,
         "30813317c3a12ab3ff6cd98a906877be"
        ],
        [
         6468590,
         "URS000062B3EE",
         "2014-05-29T15:05:26.000+0000",
         "RNACEN",
         "F868FCEBEC1E1D7C",
         107,
         "ATCCTTTTGTGATTCATAAGCCTGATGATTGGGTTTTCACGCTATTGTGTGAGTTACGACCCCCTACCTCAAACCTTGTTAGGACTCCGCATATTACCCCTCTGTGG",
         null,
         "30816590122940b2fe656ecf5c8a7ff5"
        ],
        [
         6468591,
         "URS000062B3EF",
         "2014-05-29T15:05:26.000+0000",
         "RNACEN",
         "12B4416F946F9548",
         72,
         "TCCCTGGTGGCTCGGAGGTTAAAGCGTCTGCCTGCAATGCAGGAGACCTGGGTTCGATCCCTGGGTCGGGAA",
         null,
         "f992df4131542e655e11a3388a575af6"
        ],
        [
         6468604,
         "URS000062B3FC",
         "2014-05-29T15:05:26.000+0000",
         "RNACEN",
         "2EA0E22023A5F5C5",
         144,
         "TAAATTTTGCATTTTTCGATGCTGCGATTTGGATAGCTTCACCCGTTCTTGGATTTCTTCCAGTAGTAGCAGCTCTATGGCTTACTGAAAAAGTTCCAAAGCCAGTAATTTTTACATTACCGCCACCTGATAAGGCTGAAGTGA",
         null,
         "3eaa740229bf76614a86c778d783c30b"
        ],
        [
         6468606,
         "URS000062B3FE",
         "2014-05-29T15:05:26.000+0000",
         "RNACEN",
         "1D77F411A2527FC2",
         85,
         "GCCTGGGTGGCTCAGTCGGTTGGGCATCTGACTTCAGCTCAGGTCATGATCTCACTGTTTGTGGGTTCAAGCCCCGTGTTGGGCT",
         null,
         "30823eae6c0f00e344103a10228c21a4"
        ],
        [
         6468608,
         "URS000062B400",
         "2014-05-29T15:05:26.000+0000",
         "RNACEN",
         "30203232B3A7DA5D",
         72,
         "GGGGCTATAGCTCAGTTGGTAGAGAGTTTGCCTCCCATGCACAAAGCCCTGGGTTCAATCCCCAGTACCCCA",
         null,
         "3eaaf083fcf18f43e41c7d87e299530d"
        ],
        [
         6468609,
         "URS000062B401",
         "2014-05-29T15:05:26.000+0000",
         "RNACEN",
         "4D21885CEACC2EE1",
         127,
         "TAGTATCTGTTCTTATCAGCTTAACATCTGATAGTTCCTCCATTGGAGGACAACAAATGTTAAACTGGAAATTCGACCGTGAAATGTGTTTTCGGTATACCGATAAAAATTGGCAAGACAAACCATA",
         null,
         "da15b4164e7df6c1615ac3637509180b"
        ],
        [
         6468611,
         "URS000062B403",
         "2014-05-29T15:05:26.000+0000",
         "RNACEN",
         "17D5F7812A3F2E15",
         1787,
         "CTGCCAGTAGTCATATGCTTGTCTCAAAGATTAAGCCATGCATGTCTAAGTATAAGCTGACTTATACTGTGAAACTGCGAATGGCTCATTAAATCAGTTATAGTTTATTTGATGGTACCTTACTACTCGGATAACCGTAGTAATTCTAGAGCTAATACGTGCGCAAATCCCGACTTCCGGAAGGGACGTATTTATTAGATAAAAGGCCGACCGGGCTTGCCCGACTCGCGGTGAATCATGATAACTTCACGAATCGCATGGCCTCCGTGCCGGCGATGTTTCATTCAAATTTCTGCCCTATCAACTTTCGATGGTAGGATAGAGGCCTACCATGGTGGTAACGGGTGACGGGGGATTAGGGTTCGATTCCGGAGAGGGAGCCTGAGAAACGGCTACCACATCCAAGGAAGGCAGCAGGCGCGCAAATTACCCAATCCTGACACAGGGAGGTAGTGACAATAAATAACAATACCGGGCTTTTCAAGTCTGGTAATTGGAATGAGTACAATCTAAATCCCTTAACGAGGATCAATTGGAGGGCAAGTCTGGTGCCAGCAGCCGCGGTAATTCCAGCTCCAATAGCGTATATTTAAGTTGCTGCAGTTAAAAAGCTCGTAGTTGGATTTCGGATGGGTTCCGTCGGTCCGCCGCTTCGGTGTGCACCGGCGGCGCCCATCTTGCTGCCGGGGACGGGCTCCTGGGCTTCACTGTCCGGGACTCGGAGTCGGCGAGGTTACTTTGAGTAAATTAGAGTGTTCAAAGCAGGCCTACGCTCTGAATACATTAGCATGGAATAACACGATAGGACTCTGGCCTATCTTGTTGGTCTGTAGGACCGGAGTAATGATTAAGAGGGACAGTCGGGGGCATTCGTATTTCATTGTCAGAGGTGAAATTCTTGGATTTATGAAAGACGAACTACTGCGAAAGCATTTGCCAAGGATGTTTTCATTAATCAAGAACGAAAGTTGGGGGCTCGAAGACGATTAGATACCGTCCTAGTCTCAACCATAAACGATGCCGACTAGGGATTGGTGGATGTTCTCTTGATGACTCCACCAGCACCTTATGAGAAATCAAAGTTTTTGGGTTCCGGGGGGAGTATGGTCGCAAGGCTGAAACTAAAGGAATTGACGGAAGGGCACCACCTGGCGTGGAGCCTGCGGCTTAATTTGACTCAACACGGGAAAACTTACCAGGTCCAGACATAGTGAGGATTGACAGATTGAGAGCTCTTTCTTGATTCTATGGGTGGTGGTGCATGGCCGTTCTTAGTTGGTGGGTTGCCTTGTCAGGTTGATTCCGGTAACGAACGAGACCTCAACCTGCTAAATAGTCACGTCCGGTTTTTCCGGTCGGCCGACTTCTTAGAGGGACTATTGGCGACTAGCCAATGGAAGTTTGAGGCAATAACAGGTCTGTGATGCCCTTAGATGTTCTGGGCCGCACGCGCGCTACACTGATGCATTCAACGAGCCTATCCTTGACCGACAGGTCCGGGTAATCTGTGAAACTGCATCGTGATGGGGATAGATTATTGCAATTATTAATCTTCAACGAGGAATGCCTAGTAAGCGCGAGTCATCAGCTCGCGTTGATTACGTCCCTGCCCTTTGTACACACCGCCCGTCGCTCCTACCGATTGGATGTGCTGGTGAAGCGTTTGGATTGGCGACAGCCGGCGGTAACGCTGACTGTCGCCGAGAAGTTCGTTAAACCCTCCCATCTAGAGGAAGGAGAAGTCGTAACAAGGTTTCCTTTCGCAGCTCCCTGCCGAAGCCTCAGCC",
         null,
         "f9939a16ac150c432d76219445698ea2"
        ],
        [
         6468614,
         "URS000062B406",
         "2014-05-29T15:05:26.000+0000",
         "RNACEN",
         "3558E4C2F4346CDC",
         72,
         "GCCTCTGTAGTCGAAAGGATAAGATGCCTGCCCGGTAAGCAGGAGACTCAGGTTCGATTCCTGGCTGAGGTG",
         null,
         "30825b4d5a3ca272019e6a0f774eb590"
        ],
        [
         6468617,
         "URS000062B409",
         "2014-05-29T15:05:26.000+0000",
         "RNACEN",
         "25DB3F679B6A0503",
         110,
         "ATGCCCCATGATGCTCAGGTCCGCCGCATCTCCTGGATCGTGGGGTCGGTCGGCTGACGATGTCCGAATCGGTTCCTCGTGCCGTGATCACATCGTTAGCCGACCGCCTT",
         null,
         "da15f263f8af4a943103ec547e1ec8b0"
        ],
        [
         6468618,
         "URS000062B40A",
         "2014-05-29T15:05:26.000+0000",
         "RNACEN",
         "7E6C38997216F49F",
         73,
         "GCCCGGTTAGCTCAGTCGGTAGAGCACCAGACTCTTAATCTGGTTGTCGCGGGTTCGAGCCCCGCATCGGGCT",
         null,
         "30829672b79de97941cae4876718c83e"
        ],
        [
         6468619,
         "URS000062B40B",
         "2014-05-29T15:05:26.000+0000",
         "RNACEN",
         "A8EBE2AAD9EFD4EF",
         82,
         "GTCGCTTTGGCCGAGTGGTTAAGGCGTGTGCTTGCTAAGTGCATGGGGATCCCCYGYGAGAGTTCGAACCTCTCAGGCGACG",
         null,
         "f99417b6b72ff83bad1862acf234c74a"
        ],
        [
         6468620,
         "URS000062B40C",
         "2014-05-29T15:05:26.000+0000",
         "RNACEN",
         "5A73F64F90FA9D78",
         64,
         "GAGAAGTTGGCTCAGTGGTAGAGTTCTTGCCTTCCATGCATGAGGCCCTGGGTTAGATTCCTCA",
         null,
         "3eab9b938117e27be81b425d17aab182"
        ],
        [
         6468623,
         "URS000062B40F",
         "2014-05-29T15:05:26.000+0000",
         "RNACEN",
         "A11B747A9468A14E",
         72,
         "TCCCTGGTGGCTCAGATGGTAAAGCGTCTGCCTGCAATGCAGGAGACCCAGGTTCAATCCCTGGGTTGGGAA",
         null,
         "f9944721579c18f67d3de9587a977671"
        ],
        [
         6468624,
         "URS000062B410",
         "2014-05-29T15:05:26.000+0000",
         "RNACEN",
         "D01120F67950490B",
         119,
         "TCTGGCAGCTATCTCTTTGCAACTCTCACATGGTCCCACTACCTCTGAAGCTAAGCAGGACTGCACCCGGTCAGTACCTGGATGGGAGACCACATGGGAAAGCTAGGTTGATGCCAAAA",
         null,
         "3ead1f1afdc7f7e8a2dd840ee6beadc6"
        ],
        [
         6468625,
         "URS000062B411",
         "2014-05-29T15:05:26.000+0000",
         "RNACEN",
         "47CA05F3D8ACA724",
         105,
         "AGTATTTGGTATCTGCGCTCTGCTGAAGCCAGTTACCTTCGGAAAAAGAGTTGGTAGCTCTTGATCCGGGCAACNAACCACCGCTGGTAGCGGTGGTTTTTTTGT",
         null,
         "da1657ca011145960f6dcfbb7273fd44"
        ],
        [
         6468629,
         "URS000062B415",
         "2014-05-29T15:05:26.000+0000",
         "RNACEN",
         "AF0CDD1CA91368C0",
         82,
         "GCCTGGGTGGCTCAGTGGTTGAGCATCTGTCTTTGGCTCAGGGCCTGATCCCAAATCCTGGGATCAAGTCCCACGTCGGGCT",
         null,
         "da1678a7f444ab0e4a655ca8985fad8b"
        ],
        [
         6468631,
         "URS000062B417",
         "2014-05-29T15:05:26.000+0000",
         "RNACEN",
         "2D6A698409CE8477",
         125,
         "GTGGTATTACCTCCGTTTCATAATTTTTGTCGAAATCTTACATGTATCTAGACACTTTTTAGGAATAGATACATCCATTTTTGAACAAATTTAAGACAAGAATTATGAAACGGAGGGAGTAACAT",
         null,
         "f99487bb87ccb1008c495b85d268b905"
        ],
        [
         6468635,
         "URS000062B41B",
         "2014-05-29T15:05:26.000+0000",
         "RNACEN",
         "0CBDFD267D707C33",
         118,
         "GTCTACAGCCATGCCACCCTGAACAAGCTGGATCCCATCTGCTCTCGGAAGCTAAGCAAGGTCAGCCTGGTTAGTACTTGGATGGGAGACCACCTAGGAAGACCAGGTGCTATAGGTG",
         null,
         "f994c8757191062df89507eaa2347a91"
        ],
        [
         6468638,
         "URS000062B41E",
         "2014-05-29T15:05:26.000+0000",
         "RNACEN",
         "89C83A7760E34884",
         116,
         "TGACTGGCAGCTAGCACTCTGCAACTCTCACATGGTCGCCCACTGAAGCTAAGCAGGGCTGTGCCCGGTCAGTACCTGGATGGGAGACCACATGGGAAAGCTAGGTTGCCAATTGG",
         null,
         "3083c51cc3d2a6c952182507371317f1"
        ],
        [
         6468639,
         "URS000062B41F",
         "2014-05-29T15:05:26.000+0000",
         "RNACEN",
         "823B89E7DA8E6D6F",
         71,
         "TCCTGGTAGCTCAGTCGGTAAAGAATCTGCCTGCAGTGTAGAAGACCTGGGTTCGATCCCTGGGTCAGGAA",
         null,
         "f9957074eb6098f47deb8b5400bd1d11"
        ],
        [
         6468641,
         "URS000062B421",
         "2014-05-29T15:05:26.000+0000",
         "RNACEN",
         "A811F8FD5DFC9647",
         68,
         "GTGGTGGCTCAGTGGTAGAGTGCTTGCCTAGCATGTGTGAGGCACTGGGTTCGAGTCTCAGCACCACA",
         null,
         "da1811186980dad28006d43ef8411c4f"
        ],
        [
         6468642,
         "URS000062B422",
         "2014-05-29T15:05:26.000+0000",
         "RNACEN",
         "3CD16FDAEE7C578F",
         65,
         "TGGCGCTGAGGAGAGAATTGCTGTTGAACTACAGTGATAGTTTTATACGCTATTCTGAGCCAGCA",
         null,
         "3083d9ee6a4ef0ed6a20877cc24345d7"
        ],
        [
         6468645,
         "URS000062B425",
         "2014-05-29T15:05:26.000+0000",
         "RNACEN",
         "C017BE441C9ACDAB",
         138,
         "TCCCTCTCAGGATAGTACCTGGAGAGTTTCCAGTACTCTACCAGTCTCGGCTATGGGAGGGAGAGTCGAGCAGAGGCCTGTCCATTTCATTCCCAGCTTAGGCAGTGGCTAGTGAGTGGAAGACAATCTGCTACAAGT",
         null,
         "da18390e09ddd659fd60f6f836afdb9b"
        ],
        [
         6468647,
         "URS000062B427",
         "2014-05-29T15:05:26.000+0000",
         "RNACEN",
         "9C7442C398172383",
         75,
         "CGGGATGTAGCGCAGTCCTGGTAGCGCACCTGCATGGGGTGTAGGTGGTCGGAGGTTCAAATCCTCTCATCCCGG",
         null,
         "f9957b4df8eab9add46f7fd94598c202"
        ],
        [
         6468648,
         "URS000062B428",
         "2014-05-29T15:05:26.000+0000",
         "RNACEN",
         "D67AE0E17A969955",
         58,
         "GCCGAGATAGCTCAGCCGGTAGAGCAGARGACTGAAAATCCTCGTGTCACCAGTTCAA",
         null,
         "3eaf4c5399c46589e157680246c4211c"
        ],
        [
         6468650,
         "URS000062B42A",
         "2014-05-29T15:05:26.000+0000",
         "RNACEN",
         "268507CFC73B2DE1",
         859,
         "CGCCCTTAGAGTTTGATCCTGGCTCAGAACGAACGCTGGNGGCAGGCTTAACACATGCAAGTCGAGCGCCTCGCAAGAGGAGCGGCAGACGGGTGAGTAACGCGTGGGAATCTACCGTACCCTACGGAACAACACAGGGAAACTTGTGCTAATACCGGATAAGCCCTTACGGGGAAAGATTTATCGCCGAAAGATTGGCCCGCGTCTGATTAGCTAGTTGGTGAGGTAACGGCTCACCAAGGCGACGATCAGTAGCTGGTCTGAGAGGATGATCAGCCACATTGGGACTGAGACACGGCCCAAACTCCTACGGGAGGCAGCAGTGGGGAATATTGGACAATGGGCGAAAGCCTGATCCAGCCATGCCGCGTGAGTGATGAAGGCCCTAGGGTTGTAAAGCTCTTTTGTGCGGGAAGATAATGACGGTACCGCAAGAATAAGCCCCGGCTAACTTCGTGCCAGCAGCCGCGGTAATACGAAGGGGGCTAGCGTTGCTCGGAATCACTGGGCGTAAAGGGTGCGTAGGCGGGTTTTTAAGTCAGAGGTGAAATCCTGGAGCTCAACTCCAGAACTGCCTTTGATACTGAGAATCTTGAGTACGGGAGAGGTGAGTGGAACTGCGAGTGTAGAGGTGAAATTCGTAGATATTCGCAAGAACACCAGTGGCGAAGGCGGCTCACTGGCCCGTAACTGACGCTGAGGCACGAAAGCGTGGGGAGCAAACAGGATTAGATACCCTGGTAGTCCACGCCGTAAACGATGAATGCCAGCCGTTAGTGGGTTTACTCACTAGTGGCGCAGCTAACGCTTTAAGCATTCCGCCTGGGGAGTACGGTCGCAAGATTAAAACTCAAAGGAA",
         null,
         "3083ea59caaae22f417707191dfeb57f"
        ],
        [
         6468653,
         "URS000062B42D",
         "2014-05-29T15:05:26.000+0000",
         "RNACEN",
         "5388D535F88389A1",
         111,
         "TGTGAGAGTGATGAGTTGCACGCTGGTGGAGCCGTAGTATCAGGTGATACAGGCATCACTCAGTACCACCCTGGTGACAAAATCATGTGCACAGGGGCCATCTGACTCACA",
         null,
         "da18691a66be492cc6ff799543fcca06"
        ],
        [
         6468654,
         "URS000062B42E",
         "2014-05-29T15:05:26.000+0000",
         "RNACEN",
         "B16BAB07621DA54C",
         68,
         "GCATTGGTGGTTCAGTGGTAGAATTCCCGCCTCCCACGTGGGAGACCAGAGTTCGATTCTGCTGTGTG",
         null,
         "3083ee8e929318a7cdc8af236caefb5d"
        ],
        [
         6468655,
         "URS000062B42F",
         "2014-05-29T15:05:26.000+0000",
         "RNACEN",
         "7F6412B555D5398D",
         138,
         "CACCTCCTATTGCTTACCACAGACTGGTTATTCTTTGAACAGATTGTATAGGAAAAGGAGGCAGAGAAACTTTTCTCTTGTACTCCTCAGTCAGGACCTTGTGTGTGCCCTAGCTGTATTGTGAAAGGAGAGAGAGTG",
         null,
         "f995972f896b8b55b82275796aabfb11"
        ],
        [
         6468656,
         "URS000062B430",
         "2014-05-29T15:05:26.000+0000",
         "RNACEN",
         "B71DCC6B843FB9D1",
         58,
         "TGGCTCAGTGGTTGAGAGCACTGGTTGTTCTTCCAGAGGACCTGGGTTCAATTCCCAG",
         null,
         "3eafd33d4661f4a8d5b2f2851baf1fba"
        ],
        [
         6468657,
         "URS000062B431",
         "2014-05-29T15:05:26.000+0000",
         "RNACEN",
         "526DD108E9A82C66",
         141,
         "AGTTTTGCGCAGTGGCAGTGTCATAGCCAATGAAGTTTATCTGATGCATGATTATTGCTAATTGAAAACTTTTCCCAGTATCCCGCCGTGATGTCTTGAAATATAGTCATCACTGGCAATTTTTTACAGTCTCCATGGAGA",
         null,
         "da198108ed087cacb5157fdeabdafb71"
        ],
        [
         6468661,
         "URS000062B435",
         "2014-05-29T15:05:26.000+0000",
         "RNACEN",
         "AC56BC4B9B375753",
         75,
         "TTCAGTGATCATCGAATCTTTGAACGCACCTTGCGCCCCTTGGCTATTCCGAGGGGCATGCCTGTTTGAGTATCA",
         null,
         "f995a18b91e706ab154dc76b24abb6fa"
        ],
        [
         6468663,
         "URS000062B437",
         "2014-05-29T15:05:26.000+0000",
         "RNACEN",
         "4405CE3605AA79F6",
         73,
         "TCTCTGGTGGTCCAGTGGTCAAGACATTGCTCTTTCAATGCAGGGGGTGTGGGTTCCATCCCTAGTCAGGGAA",
         null,
         "3eafedbdedd7f46cb7b1366ba85d3463"
        ],
        [
         6468667,
         "URS000062B43B",
         "2014-05-29T15:05:26.000+0000",
         "RNACEN",
         "9F4DF14133BB2796",
         72,
         "GGCAGCGTGGCTTAGTGGAAAGAGCATAGGCTTGGGAGTCAAAGGTCATGGGTTCTAATCCCACCTCCGCCT",
         null,
         "3eaff28d6520fc70a7778ff97a46b3c4"
        ],
        [
         6468674,
         "URS000062B442",
         "2014-05-29T15:05:26.000+0000",
         "RNACEN",
         "08F8260E98659ED1",
         73,
         "TCCCCGATAGCTCAGTTGGTAGAGCAGTTGACTGTTAATCAATTGGTCGCAGGTTCGAGTCCTGCTCGGGGAG",
         null,
         "f99660c8fdd2186625297252e2e3e288"
        ],
        [
         6468677,
         "URS000062B445",
         "2014-05-29T15:05:26.000+0000",
         "RNACEN",
         "FA1585490925A98F",
         73,
         "TCCCTGGTGGTCCAGTGGTTAAGACTCCGTGCTCCCAATGCAGGAGACCCGGGTCCCATCCCTGGCCAGGGAA",
         null,
         "30866035fbfcda93540d4134ded2ef9c"
        ],
        [
         6468679,
         "URS000062B447",
         "2014-05-29T15:05:26.000+0000",
         "RNACEN",
         "8F511746E7AFB4D3",
         73,
         "GGGGATATAGCTCAGTTAGTAGAGTGCTTGCCTTGCATGCACAAGGCCCTGGGTTAAAACCCTGGCATCACCA",
         null,
         "3eb070cc03a14bc91861d5a24fc90316"
        ],
        [
         6468680,
         "URS000062B448",
         "2014-05-29T15:05:26.000+0000",
         "RNACEN",
         "CE341526BDAD6FB6",
         73,
         "GGGAATGTAGCTCAATTGGTAGAGCGCTCGCTTTGCATGCGAGAGGTACCGAGATCGAAACTCGGCATTTCCA",
         null,
         "da1a5244f55da9f42a7f253113187d2e"
        ],
        [
         6468683,
         "URS000062B44B",
         "2014-05-29T15:05:26.000+0000",
         "RNACEN",
         "AF2DABAD816732DD",
         107,
         "GTGCTCACCCTGGCAACACATATACTAAAAGTTGGAATGATACAGTGAAGATTAGTATGGCCCCATGCAAGGGTTATATGCAAATTCATAAAGTGTTCTGTATTTCA",
         null,
         "3eb0c6dffbbea8ffbb6b545e6b4e2cad"
        ],
        [
         6468684,
         "URS000062B44C",
         "2014-05-29T15:05:26.000+0000",
         "RNACEN",
         "942FF285449D722C",
         1392,
         "CGCCTTAAGTTGATCCTGGCCCCGATGATGTTGGCGGCGTGCCTAACACATGCAAGTCGAACGAAGCGCTTTGATTGATTCCTTCGGGCTCATTTCAAAGTGACTTAGTAGCGGACGGGTGAGTAACGCGTGGGTAACCTGCCTTGTACAGGGGGATAACAGTTAGAAATGACTGCTAATACCGCATAACCCGCTAAGGTCGCATGACCTGGACGGAAAAGATTTATCGGTACAAGATGGACCCGCGTCTGATTAGCTAGTTGGTGAGGTAACGGCCCACCAAGGCGACGATCAGTAGCCGGCCTGAGAGGGTGAACGGCCACATTGGGACTGAGACACGGCCCAAACTCCTACGGGAGGCAGCAGTGGGGAATATTGCACAATGGGGGAAACCCTGATGCAGCAACGCCGCGTGAGTGAAGAAGTATTTCGGTATGTAAAGCTCTATCAGCAGGGAAGAAAATGACGGTACCTGACTAAGAAGCCCCGGCTAACTACGTGCCAGCAGCCGCGGTAATACGTAGGGGGCAAGCGTTATCCGGATTTACTGGGTGTAAAGGGAGCGTAGACGGTTGTGCAAGTCTGAAGTGAAAGCCCGGGGCTCAACCCCGGGACTGCTTTGGAAACTGTATAACTGGAGTGCAGGAGAGGTAAGCGGAATTCCTAGTGTAGCGGTGAAATGCGTAGATATTAGGAGGAACACCAGTGGCGAAGGCGGCTTACTGGACTGTAACTGACGTTGAGGCTCGAAAGCGTGGGGAGCAAACAGGATTAGATACCCTGGTAGTCCACGCCGTAAACGATGAATACTAGCTGTTGGTGAGCAGAGCTCATCGGTGGCGCAGCTAACGCAATAAGTATTCCACCTGGGGAGTACGTTCGCAAGAATGAAACTCAAAGGAATTGACGGGGACCCGCACAAGCGGTGGAGCATGTGGTTTAATTCGAAGCAACGCGAAGAACCTTACCTGGTCTTGACATCCCGATGACCGACTCTTAACCGAGTCTTCTCTTCGGAGCATCGGAGACAGGTGGTGCATGGTTGTCGTCAGCTCGTGTCGTGAGATGTTGGGTTAAGTCCCGCAACGAGCGCAACCCTTATCTTTAGTAGCCAGCGGTCCGGCCGGGCACTCTAGAGAGACTGCCAGGGATAACCCGGAGGAAGGTGGGGATGACGTCAAATCATCATGCCCCTTATGATCAGGGCTACACACGTGCTACAATGGCGTAAACAAAGGGAAGCAGAGCCGCGAGGCCGAGCAAATCTCAAAAATAACGTCTCAGTTCGGATTGTAGTCTGCAACTCGACTACATGAAGCTGGAATCGCTAGTAATCGCGAATCAGAATGTCGCGGTGAATACGTTCCCGGGTCTTAGTACACACCGCCCGTC",
         null,
         "da1a7bdc43438234415e2955e9bc4512"
        ],
        [
         6468687,
         "URS000062B44F",
         "2014-05-29T15:05:26.000+0000",
         "RNACEN",
         "8ECB46FF0094CE61",
         126,
         "GTCTACGACCATAACACCCTGAACGCGCCCCATCTCGTCTGATCTCGGAAGCTAAGCAGGGTCACGCCTGGTTAGTACTTGGATGGGAGAAAATACACAAACACACCAAAAAGGCACTTGTTCACC",
         null,
         "3eb11103e56ec0c5eacef5145e8f08d4"
        ],
        [
         6468690,
         "URS000062B452",
         "2014-05-29T15:05:26.000+0000",
         "RNACEN",
         "66E548E02CA04FFA",
         73,
         "GCCTGGCTGGCTCAGTCGGTAGAGCATGTGACTTTTCATCTTGGGATTGTGTGTTCGAGCCTCACGTTGGGTG",
         null,
         "f997b6da01c8570d766f4ff4e5e0ed40"
        ],
        [
         6468691,
         "URS000062B453",
         "2014-05-29T15:05:26.000+0000",
         "RNACEN",
         "46A6709B3B9DBAAD",
         431,
         "TCCTCGCTCAAAGAATCGCAACGAAGCACACGCACAGAGCGCCTCTCGGGGTGTCTCTTCCCACGCTTTGGGGAAAGTCCCCGGACAACGATCATCGCGATCGCACTTTCAGCAACGAACCGCCATAGAAGCCGCGGCTTCCAACCGATCACGACATTTCTCGCATCTCTTTATCCGTCTGCACTCTTTTCGACAGCTTTCACGAGGCTGCAGGGTGGGGATCTGGCACTTGGATGATGATATGAGTCCGCTGGTGACCCGGTCTGCGTGCTGAAGGTTCGCTGGAGATTGGAGGAGGAGGGAGTTGTTGGGAGGTGCCAGGTATGGAGGGTCTTCTCGTCCAGTTTATGGTTATGCGATTGCCTCCTTTGCGCTTCGGTCACACGGGGTGTCTAGGAGGTAACTCAATGGGGCTCATTCTTGAGGCGAGG",
         null,
         "3eb13133b539c63aa3f2c356cb60a3bf"
        ],
        [
         6468693,
         "URS000062B455",
         "2014-05-29T15:05:26.000+0000",
         "RNACEN",
         "D8CBBA443CC9108C",
         119,
         "ATGTTCGATCATACCAGCACTAATGCACCGGATCCCATGAGAACTCCGCAGTTAAGTTTGTTTGGGCGAGAGTAGTACTCGGATGTGTGACCTCCGGGGAAGTCCTCGTGTTGCAACCT",
         null,
         "3087255b0d299f25bc090e591a31350c"
        ],
        [
         6468695,
         "URS000062B457",
         "2014-05-29T15:05:26.000+0000",
         "RNACEN",
         "4C58BDA0FF7708F8",
         156,
         "GACTCTCGGCAACGGATATCTCGGCTCTCGCATCGATGAAGAACGTAGCGAAATGCGATACCTGGTGTGAATTGCAGAATCCCGCGAACCATCGAGTCTTTGAACGCAAGTTGCGCCTGAGGCCATTCGGTTGAGGGCACGCCTGCCTGGGCGTCA",
         null,
         "3eb188a5fdfb773ce22973927b012717"
        ],
        [
         6468696,
         "URS000062B458",
         "2014-05-29T15:05:26.000+0000",
         "RNACEN",
         "D2B2ABEC4C58C815",
         120,
         "GTCTATGGCCATAAAACCCTGAACTTGCCAGATCTCATCTGATTTGGGAAGCTAAGCAGGGTCGGGTCTAGTTAGAACTTGGATGGGAGACCACCCCGAGAATATCAAATGCTATAGGCT",
         null,
         "da1b0e29a3cbf86d4bd152a77f933b4f"
        ],
        [
         6468697,
         "URS000062B459",
         "2014-05-29T15:05:26.000+0000",
         "RNACEN",
         "2D37B88489AA8997",
         71,
         "GCTGTGGTGGTGCAGTGGTAGAATTCTCACCTTCCATGCAGGAGATCCAGGTTCAATTCCCGGCCAATGCA",
         null,
         "308782cfab0658eb0b867df63af8106b"
        ],
        [
         6468699,
         "URS000062B45B",
         "2014-05-29T15:05:26.000+0000",
         "RNACEN",
         "20D6B3FFC1C5621A",
         131,
         "GTGCTGTATGAAAGCAGAGAAGGCTAGAGTTCCTCTTAACAAGTATGAAAGGGGCCCTTGGCCTGACAGCACACATATAGTTAAGACATTGCCTTTGTCTTCATGGTATATAGAATTAATTTGAAATTTGT",
         null,
         "3eb1bf0a7d418b2871c028c5d045c604"
        ],
        [
         6468701,
         "URS000062B45D",
         "2014-05-29T15:05:26.000+0000",
         "RNACEN",
         "5E27B42770B2C71E",
         72,
         "GGCTCAGTAGCTTAGTTGGTAAAGCGCTCGTCTAGCATACAAGAGTCCTAGGTTCAAATCCCAGCCGAGCAC",
         null,
         "3087f66bce09640d8e0557d4eb12f6b1"
        ],
        [
         6468702,
         "URS000062B45E",
         "2014-05-29T15:05:26.000+0000",
         "RNACEN",
         "7A76A66E1E954AA3",
         421,
         "ACAACAAAAACAAGAAACGAAGCGGCAAACCAATAAAAACAAGACGTAACGGCTCTGACATAACAAGAACAAAACGGACAGAGGCGCAGCTAACAGATTTTTTTGGAGTGGATCAGCTTTACAGGGACCTTTCGGTGAAAGGCCTCGCGACCGGACAGAGAACAATAAAACTACCTTCAGGTAGCTTCCGAACCGGTGGGATCACGATGTTGTGCAGACAGGTGATTAAAGCGAGTCAGCGCTCAAAAAAATACGTTTGCTCTTGACCCCGGATGGGGGTCGCTCAACAACGCTGTAAAGGGACTGGCCATCAACAACAATAACAGGCCGCCCTACAACAATAAAAAGAGCAGGTAAAACACATTGGAGGAGAGCTACGGCTCTCCTTTGTGTTTTTCGTCCACAGGAAGCTGCAGCGTAG",
         null,
         "f9980705c6b743184f93b297de645b61"
        ],
        [
         6468706,
         "URS000062B462",
         "2014-05-29T15:05:26.000+0000",
         "RNACEN",
         "7C7927DC5F3F8456",
         260,
         "CGTGCCTGTAGTCCCAGCTACTCAGGAGGCTGAGGCTGGAGGATCTCTTGAACCCAGGAGTTCTGGGCTGTAGCGCACTATGCCAATCGGGTGTCTGCACTAAGTTCATCATCAATATGGTGACCTCCCGGGAGCGGGGGACCACCAGGTGGCCTGAGGAGGGGTGAACCGGCCCAGGTTGGAAACGGAGCAGGTCAAAATTCCCATGCTGATCAGTAGTTGGATCGCACCTGTGAATAGCCACTGCACTCCAGCCTGGG",
         null,
         "f9980f137295c362425ea9a86c540194"
        ],
        [
         6468707,
         "URS000062B463",
         "2014-05-29T15:05:26.000+0000",
         "RNACEN",
         "E80269673C02DC62",
         156,
         "GACTCTCGGCAATGGATATCTCGGCTCTTGCATCGATGAAGAACGTAGTGAAATGCGATACTTGGTGTGAATTGCAGAATCTCGTGAACCATTGAGTCTTTGAACGCAAGTTGTGCCCGAGGCTTCGTGGCCGAGGGCACGCCTGCTTGGGCGTCA",
         null,
         "3eb1e6c07f1651b8cc570db7f0b94b53"
        ],
        [
         6467231,
         "URS000062AE9F",
         "2014-05-29T15:05:26.000+0000",
         "RNACEN",
         "25A1047855F46D3D",
         94,
         "CGTANNGTGANTNGCAGAATTCAGTGAATCATCAAATCCTTGAACGCAACTTGCGCTCGCAAGTCCACTTGCGAGCATGCCTGTTTGAGTATCG",
         null,
         "3e60815f17bdac582ee05b5c54a7820c"
        ],
        [
         6467232,
         "URS000062AEA0",
         "2014-05-29T15:05:26.000+0000",
         "RNACEN",
         "99D0432869EA7DE6",
         119,
         "AGGTGCGATCATACCAGCACTACAGCCCCGGATCCCATCAGAACTCCGCAGTTAAGTGTGCTTGGGGGAGAGTAGTACTCGGATCGGTGACCACCTGGGAAGCCCTCGTGTTGCACCTA",
         null,
         "d9c9b9180e4602d26e449d1b01e51d8e"
        ],
        [
         6467236,
         "URS000062AEA4",
         "2014-05-29T15:05:26.000+0000",
         "RNACEN",
         "E53B6322C42B1DD5",
         72,
         "AACAGAGTGGTTCAGTGGAAAGAGCACGGGCTTGGGAGTCAGAAGTCATGGGTTCTAATCCCACCTCTGTCC",
         null,
         "d9cad9e96d627170d97f0b1e33a84048"
        ]
       ],
       "datasetInfos": [],
       "dbfsResultPath": null,
       "isJsonSchema": true,
       "metadata": {},
       "overflow": false,
       "plotOptions": {
        "customPlotOptions": {},
        "displayType": "table",
        "pivotAggregation": null,
        "pivotColumns": null,
        "xColumns": null,
        "yColumns": null
       },
       "removedWidgets": [],
       "schema": [
        {
         "metadata": "{\"scale\":0}",
         "name": "id",
         "type": "\"long\""
        },
        {
         "metadata": "{\"scale\":0}",
         "name": "upi",
         "type": "\"string\""
        },
        {
         "metadata": "{\"scale\":6}",
         "name": "timestamp",
         "type": "\"timestamp\""
        },
        {
         "metadata": "{\"scale\":0}",
         "name": "userstamp",
         "type": "\"string\""
        },
        {
         "metadata": "{\"scale\":0}",
         "name": "crc64",
         "type": "\"string\""
        },
        {
         "metadata": "{\"scale\":0}",
         "name": "len",
         "type": "\"integer\""
        },
        {
         "metadata": "{\"scale\":0}",
         "name": "seq_short",
         "type": "\"string\""
        },
        {
         "metadata": "{\"scale\":0}",
         "name": "seq_long",
         "type": "\"string\""
        },
        {
         "metadata": "{\"scale\":0}",
         "name": "md5",
         "type": "\"string\""
        }
       ],
       "type": "table"
      }
     },
     "output_type": "display_data"
    }
   ],
   "source": [
    "# Write your solution here\n",
    "# Define JDBC connection properties\n",
    "jdbc_url = \"jdbc:postgresql://hh-pgsql-public.ebi.ac.uk:5432/pfmegrnargs\"\n",
    "jdbc_properties = {\n",
    "    \"user\": \"reader\",\n",
    "    \"password\": \"NWDMCE5xdipIjRrp\",\n",
    "    \"driver\": \"org.postgresql.Driver\"\n",
    "}\n",
    "\n",
    "# Define SQL query to extract 100 RNA records from the rna table\n",
    "sql_query = \"(SELECT * FROM rna LIMIT 100) AS rna_100_records\"\n",
    "\n",
    "# Extract RNA data from PostgreSQL database\n",
    "rna_df = spark.read.jdbc(url=jdbc_url, table=sql_query, properties=jdbc_properties)\n",
    "\n",
    "# Load the DataFrame into a managed table called rna_100_records\n",
    "rna_df.write.mode(\"overwrite\").saveAsTable(\"rna_100_records\")\n",
    "\n",
    "display(spark.table(\"rna_100_records\"))"
   ]
  }
 ],
 "metadata": {
  "application/vnd.databricks.v1+notebook": {
   "dashboards": [],
   "language": "python",
   "notebookMetadata": {
    "pythonIndentUnit": 4
   },
   "notebookName": "2 - Spark ETL Jobs Exercieses",
   "widgets": {}
  }
 },
 "nbformat": 4,
 "nbformat_minor": 0
}
